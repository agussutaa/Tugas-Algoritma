{
  "nbformat": 4,
  "nbformat_minor": 0,
  "metadata": {
    "colab": {
      "provenance": [],
      "authorship_tag": "ABX9TyMHJvwWJscXhjfFa3jTaqot",
      "include_colab_link": true
    },
    "kernelspec": {
      "name": "python3",
      "display_name": "Python 3"
    },
    "language_info": {
      "name": "python"
    }
  },
  "cells": [
    {
      "cell_type": "markdown",
      "metadata": {
        "id": "view-in-github",
        "colab_type": "text"
      },
      "source": [
        "<a href=\"https://colab.research.google.com/github/agussutaa/Tugas-Algoritma/blob/main/2208541012_PUTU_AGUS_ARYA_SUTA_TUGAS_III.ipynb\" target=\"_parent\"><img src=\"https://colab.research.google.com/assets/colab-badge.svg\" alt=\"Open In Colab\"/></a>"
      ]
    },
    {
      "cell_type": "markdown",
      "source": [
        "Nama : Putu Agus Arya Suta \n",
        "\n",
        "NIM : 2208541012\n",
        "\n",
        "Kelas : A\n",
        "\n",
        "\n",
        "**PERTEMUAN 3 ALGORITMA & STRUKTUR** **DATA** **(20 Maret 2023)**\n",
        "\n",
        "Adapun beberapa materi yang diberikan pada pertemuan kali ini ialah sebagai berikut.\n",
        "\n",
        "1.   *Strings Index*\n",
        "2.   *Strings Methods*\n",
        "3. Operasi Matematika\n",
        "4. Operator Perbandingan\n",
        "5. Operator Logika\n",
        "6. Operator *if*\n",
        "\n",
        "\n",
        "\n",
        "\n",
        "\n",
        "\n",
        "\n",
        "\n",
        "\n",
        "\n"
      ],
      "metadata": {
        "id": "O4wRRXAHzzLt"
      }
    },
    {
      "cell_type": "markdown",
      "source": [
        "**1. Strings Index**"
      ],
      "metadata": {
        "id": "vnKOQC8BClRT"
      }
    },
    {
      "cell_type": "code",
      "execution_count": null,
      "metadata": {
        "colab": {
          "base_uri": "https://localhost:8080/"
        },
        "id": "HPBXqaxEgeu0",
        "outputId": "be2cae16-6dd8-4058-cbb2-44570fed8bf7"
      },
      "outputs": [
        {
          "output_type": "stream",
          "name": "stdout",
          "text": [
            "SAYA \n",
            "SAYA\n",
            "SAY\n",
            " HAL BARU\n"
          ]
        }
      ],
      "source": [
        "#variabel string disini diurut dengan indeks yang pertama itu 0 dan terakhir itu -1\n",
        "#berikut contoh kalimatnya dengan variabel bernama tes\n",
        "tes = \"SAYA MENCOBA HAL BARU\"\n",
        "#disini akan dicetak variabel tes dengan indeks dimulai dari 0 atau yang paling pertama hingga indeks ke-5.\n",
        "#tetapi indeks ke-5 tidak akan dicetak karena yang dicetak selalu kurang dari indeks terakhir.\n",
        "print(tes[0:5])\n",
        "print(tes[0:4])\n",
        "print(tes[0:3])\n",
        "#disini akan di print variabel tes dengan indeks dari -9 (dari indeks terakhir maju ke depan sesuai garis bilangan) hingga 0\n",
        "#sehingga akan muncul semua indeks dengan batas pertama -9 hingga indeks terakhir\n",
        "print(tes[-9:])"
      ]
    },
    {
      "cell_type": "code",
      "source": [
        "#type berfungsi untuk menentukan jenis data pada indeks tersebut\n",
        "type(tes[0:])"
      ],
      "metadata": {
        "colab": {
          "base_uri": "https://localhost:8080/"
        },
        "id": "QyikH7XTj-0_",
        "outputId": "927b986f-398d-44e5-f307-f6e6323894ff"
      },
      "execution_count": null,
      "outputs": [
        {
          "output_type": "execute_result",
          "data": {
            "text/plain": [
              "str"
            ]
          },
          "metadata": {},
          "execution_count": 10
        }
      ]
    },
    {
      "cell_type": "code",
      "source": [
        "#indeks yang dimasukkan bebas sesuai keinginan pemrogram\n",
        "a = \"Saya lahir pada tanggal 11 April 2004 di Kabupaten Jembrana\"\n",
        "print(a[0:])\n",
        "print(a[0:10])\n",
        "print(a[5:23])\n",
        "type(a[25:26])"
      ],
      "metadata": {
        "colab": {
          "base_uri": "https://localhost:8080/"
        },
        "id": "ntuYq137kcVI",
        "outputId": "76c2a279-c441-4b34-b99e-650cd7d2af5f"
      },
      "execution_count": null,
      "outputs": [
        {
          "output_type": "stream",
          "name": "stdout",
          "text": [
            "Saya lahir pada tanggal 11 April 2004 di Kabupaten Jembrana\n",
            "Saya lahir\n",
            "lahir pada tanggal\n"
          ]
        },
        {
          "output_type": "execute_result",
          "data": {
            "text/plain": [
              "str"
            ]
          },
          "metadata": {},
          "execution_count": 17
        }
      ]
    },
    {
      "cell_type": "code",
      "source": [
        "nim = \"2208541012\"\n",
        "nama = \"agus suta\"\n",
        "#pada kasus ini hasilnya tidak keluar karena batas awal tidak diketahui yang akan menyebabkan semua indeks akan tercetak, namun diberi batas 0 atau indeks pertama sedangkan batas indeks terakhir yang akan dicetak selalu kurang dari 1\n",
        "print(nim[:0])\n",
        "print(nim[-3:])\n",
        "print(nim[-1:-10])\n",
        "print(nim[0:2] + nim[-3:])\n",
        "print(str(nama[-4:]) + \" \" + str(nim[-3:]))\n",
        "type(nim[0:])\n",
        "type(nama[-4:])"
      ],
      "metadata": {
        "colab": {
          "base_uri": "https://localhost:8080/"
        },
        "id": "0TJOqT4nl4F2",
        "outputId": "d5a44cda-2f62-45d6-cb16-7361a90747b3"
      },
      "execution_count": null,
      "outputs": [
        {
          "output_type": "stream",
          "name": "stdout",
          "text": [
            "\n",
            "012\n",
            "\n",
            "22012\n",
            "suta 012\n"
          ]
        },
        {
          "output_type": "execute_result",
          "data": {
            "text/plain": [
              "str"
            ]
          },
          "metadata": {},
          "execution_count": 39
        }
      ]
    },
    {
      "cell_type": "code",
      "source": [
        "#Didefinisikan beberapa variabel sebagai berikut:\n",
        "w = 'FMIPA merupakan singkatan dari Fakultas Matematika dan Ilmu Pengetahuan Alam'\n",
        "x = \"Tahun ini pemilihan mahasiswa berprestasi akan kembali diselenggarakan oleh puspresnas\"\n",
        "y = 'Duta Anak Kabupaten Jembrana tahun 2020 Komisi Partisipasi adalah Putu Agus Arya Suta'\n",
        "z = \"Moto dari Universitas Udayana yaitu Taki-Takining Sewaka Guna Widya\"\n",
        "#menggunakan metode string indeks untuk mencetak gabungan kata-kata dari tiap kalimat pada beberapa variabel\n",
        "print(y[-19:] + \" \" +  w[6:16] + ' ' + x[20:41] + \" \" + z[10:30])"
      ],
      "metadata": {
        "colab": {
          "base_uri": "https://localhost:8080/"
        },
        "id": "PZ0Iq7EvooCG",
        "outputId": "c2c996f5-fe22-446d-e666-70d5dbf6952e"
      },
      "execution_count": null,
      "outputs": [
        {
          "output_type": "stream",
          "name": "stdout",
          "text": [
            "Putu Agus Arya Suta merupakan  mahasiswa berprestasi Universitas Udayana \n"
          ]
        }
      ]
    },
    {
      "cell_type": "markdown",
      "source": [
        "**2. Strings Methods**\n",
        "\n"
      ],
      "metadata": {
        "id": "0bSXdEDfFgd9"
      }
    },
    {
      "cell_type": "code",
      "source": [
        "#Terdapat berbagai cara untuk variabel jenis string yang dapat digunakan\n",
        "#didefinisikan variabel dengan nama fmipa sebagai berikut\n",
        "fmipa = \"Fakultas Matematika dan Ilmu Pengetahuan Alam\"\n",
        "#len digunakan untuk menentukan jumlah indeks pada variabel\n",
        "print(len(fmipa))\n",
        "#upper berguna untuk membuat setiap indeks menjadi huruf atau angka kapital\n",
        "fmipa.upper()\n",
        "#antara metode satu dan lainnya tidak bisa jadi satu kode karena memori pemrograman yang terbatas sehingga harus dipisah"
      ],
      "metadata": {
        "colab": {
          "base_uri": "https://localhost:8080/",
          "height": 53
        },
        "id": "rqmAvNFrrau-",
        "outputId": "37637cc1-d602-4a4e-b90b-16db8e777405"
      },
      "execution_count": null,
      "outputs": [
        {
          "output_type": "stream",
          "name": "stdout",
          "text": [
            "45\n"
          ]
        },
        {
          "output_type": "execute_result",
          "data": {
            "text/plain": [
              "'FAKULTAS MATEMATIKA DAN ILMU PENGETAHUAN ALAM'"
            ],
            "application/vnd.google.colaboratory.intrinsic+json": {
              "type": "string"
            }
          },
          "metadata": {},
          "execution_count": 50
        }
      ]
    },
    {
      "cell_type": "code",
      "source": [
        "#lower adalah kebalikan dari upper yang bertujuan untuk mencetak huruf menjadi kecil\n",
        "fmipa.lower()"
      ],
      "metadata": {
        "colab": {
          "base_uri": "https://localhost:8080/",
          "height": 35
        },
        "id": "DPJuCvuXtqH9",
        "outputId": "3698f13c-8fb8-4072-9890-f1543a84b22e"
      },
      "execution_count": null,
      "outputs": [
        {
          "output_type": "execute_result",
          "data": {
            "text/plain": [
              "'fakultas matematika dan ilmu pengetahuan alam'"
            ],
            "application/vnd.google.colaboratory.intrinsic+json": {
              "type": "string"
            }
          },
          "metadata": {},
          "execution_count": 49
        }
      ]
    },
    {
      "cell_type": "code",
      "source": [
        "#find adalah metode yang berguna untuk menentukan indeks ke berapa kata yang dicari\n",
        "fmipa.find(\"Matematika\")"
      ],
      "metadata": {
        "id": "bBGpcfZNIJfw"
      },
      "execution_count": null,
      "outputs": []
    },
    {
      "cell_type": "code",
      "source": [
        "#replace bertujuan untuk menggantikan kata yang ada pada variabel dengan kata yang baru\n",
        "fmipa.replace(\"Ilmu Pengetahuan Alam\", \"Science\")"
      ],
      "metadata": {
        "colab": {
          "base_uri": "https://localhost:8080/",
          "height": 35
        },
        "id": "l2XD0EO1t6MU",
        "outputId": "25e6eff0-ca88-4dd9-93d9-78e325e3728e"
      },
      "execution_count": null,
      "outputs": [
        {
          "output_type": "execute_result",
          "data": {
            "text/plain": [
              "'Fakultas Matematika dan Science'"
            ],
            "application/vnd.google.colaboratory.intrinsic+json": {
              "type": "string"
            }
          },
          "metadata": {},
          "execution_count": 54
        }
      ]
    },
    {
      "cell_type": "markdown",
      "source": [
        "**3. Operasi Matematika**"
      ],
      "metadata": {
        "id": "TT6s2OkZJELW"
      }
    },
    {
      "cell_type": "code",
      "source": [
        "#Pada python juga terdapat operasi matematikanya loo\n",
        "#tanda + untuk penjumlahan\n",
        "print(10+11)\n",
        "#tanda - untuk pengurangan\n",
        "print(17-13)\n",
        "#tanda * untuk perkalian\n",
        "print(6*7)\n",
        "#tanda / untuk pembagian\n",
        "print(19/2)\n",
        "#tanda // untuk pemabagian tapi dibulatkan\n",
        "print(24//3)\n",
        "#tanda % untuk modulo atau sisa bagi\n",
        "print(13%5)\n",
        "#tanda ** atau bintang dua kali untuk pangkat\n",
        "print(2**5)\n"
      ],
      "metadata": {
        "colab": {
          "base_uri": "https://localhost:8080/"
        },
        "id": "tcCeRMnUuh6S",
        "outputId": "ee5312bd-294d-4cbf-c17b-f9a1bf6779f5"
      },
      "execution_count": null,
      "outputs": [
        {
          "output_type": "stream",
          "name": "stdout",
          "text": [
            "21\n",
            "4\n",
            "42\n",
            "9.5\n",
            "8\n",
            "3\n",
            "32\n"
          ]
        }
      ]
    },
    {
      "cell_type": "code",
      "source": [
        "#augmented operator digunakan untuk menghitung gabungan perhitungan\n",
        "y = 6\n",
        "#y+= itu sama artinya dengan y = y + 2\n",
        "y+= 2\n",
        "print(y)\n",
        "#hasil dari y tidak lagi 6 karena telah melewati augmented operator dimana y=6 kembali didefinisikan sebagai y = y+2 sehingga 6+2 = 8"
      ],
      "metadata": {
        "colab": {
          "base_uri": "https://localhost:8080/"
        },
        "id": "3a-wTEHAJ48P",
        "outputId": "ddeb6726-c311-49dc-8907-e7179e615715"
      },
      "execution_count": 8,
      "outputs": [
        {
          "output_type": "stream",
          "name": "stdout",
          "text": [
            "8\n"
          ]
        }
      ]
    },
    {
      "cell_type": "markdown",
      "source": [
        "**4. Operator Perbandingan**"
      ],
      "metadata": {
        "id": "bPLHc5SaKvOa"
      }
    },
    {
      "cell_type": "code",
      "source": [
        "#tanda > menyatakan lebih dari\n",
        "x = 3>4\n",
        "print(x)\n",
        "#tanda < menyatakan kurang dari\n",
        "a = 2<9\n",
        "print(a)\n",
        "#tanda >= menyatakan lebih dari sama dengan\n",
        "p = 2>=-3\n",
        "print(p)\n",
        "#tanda <= menyatakan kurang dari sama dengan\n",
        "q = 6<=9\n",
        "print(q)\n",
        "#tanda == menyatakan sama dengan. kalau = artinya mendeklarasikan suatu variabel\n",
        "z = 3==4\n",
        "print(z)\n",
        "#tanda != menyatakan tidak sama dengan\n",
        "b = 5!=2\n",
        "print(b)\n",
        "#hasil yang akan dicetak hanyalah bernilai true atau false saja sesuai dengan pernyataan yang dideklarasikan"
      ],
      "metadata": {
        "colab": {
          "base_uri": "https://localhost:8080/"
        },
        "id": "XYYtZeNlzGUz",
        "outputId": "0fef40ce-bdf0-4f05-c9dd-3cc67352c9dc"
      },
      "execution_count": null,
      "outputs": [
        {
          "output_type": "stream",
          "name": "stdout",
          "text": [
            "False\n",
            "True\n",
            "True\n",
            "True\n",
            "False\n",
            "True\n"
          ]
        }
      ]
    },
    {
      "cell_type": "markdown",
      "source": [
        "**5. Operator Logika**"
      ],
      "metadata": {
        "id": "N8qLh7j2L49l"
      }
    },
    {
      "cell_type": "code",
      "source": [
        "#pada operator ini menerapkan logika matematika yang didapat di matkul PMM (Pengantar Matematika Modern)\n",
        "merah = 10\n",
        "biru = 20\n",
        "#disini menggunakan konsep logika konjungsi dimana kalimat bernilai benar jika kedua pernyataan bernilai benar. Jika satu saja pernyataan bernilai salah maka logika tersebut akan bernilai salah.\n",
        "print(merah > 8 and biru < 18)\n",
        "print(merah < 4 and biru > 30)\n",
        "#disini menggunakan konsep logika disjungsi dimana kalimat bernilai salah jika kedua pernyataan bernilai salah. Jika satu saja pernyataan bernilai benar maka logika tersebut akan bernilai benar.\n",
        "print(merah > 8 or biru < 18)\n",
        "print(merah > 25 or biru < 6)\n",
        "print(merah > 100 or biru > 21)"
      ],
      "metadata": {
        "colab": {
          "base_uri": "https://localhost:8080/"
        },
        "id": "hayce9fB1UKB",
        "outputId": "dd1273e6-4e08-4aa3-ecd9-02835e7ee7f6"
      },
      "execution_count": null,
      "outputs": [
        {
          "output_type": "stream",
          "name": "stdout",
          "text": [
            "False\n",
            "False\n",
            "True\n",
            "False\n",
            "False\n"
          ]
        }
      ]
    },
    {
      "cell_type": "markdown",
      "source": [
        "**6. Operator *If***"
      ],
      "metadata": {
        "id": "Y_wArFhKNCCU"
      }
    },
    {
      "cell_type": "code",
      "source": [
        "#Dideskripsikan variabel usia dengan input menggunakan integer\n",
        "usia = int (input(\"Berapa usiamu?:\"))\n",
        "#Akan dicetak kategori seseorang berdasarkan usia\n",
        "print()\n",
        "if usia >=0 and usia <=4 :\n",
        "  print(\"Anda merupakan Balita\")\n",
        "#Digunakan tipe elif atau pengembangan dari if else yang bertujuan untuk memberikan lebih dari satu pilihan\n",
        "#sedangkan else hanya digunakan untuk satu pilihan saja\n",
        "elif usia >=4 and usia <=12 :\n",
        "  print(\"Anda merupakan Anak-Anak\")\n",
        "elif usia >=13 and usia <=17 :\n",
        "  print(\"Anda merupakan Remaja\")\n",
        "elif usia >=18 and usia <=50 :\n",
        "  print(\"Anda merupakan Dewasa\")\n",
        "elif usia >=51 and usia <=100 :\n",
        "  print(\"Anda merupakan lansia\")\n",
        "elif usia >=100 :\n",
        "  print(\"Tidak Diketahui\")"
      ],
      "metadata": {
        "colab": {
          "base_uri": "https://localhost:8080/"
        },
        "id": "JuhshsuxkIrj",
        "outputId": "e0bfcb47-546e-4870-c6f0-4f8ffbce9448"
      },
      "execution_count": null,
      "outputs": [
        {
          "output_type": "stream",
          "name": "stdout",
          "text": [
            "Berapa usiamu?:3\n",
            "\n",
            "Anda merupakan Balita\n"
          ]
        }
      ]
    }
  ]
}