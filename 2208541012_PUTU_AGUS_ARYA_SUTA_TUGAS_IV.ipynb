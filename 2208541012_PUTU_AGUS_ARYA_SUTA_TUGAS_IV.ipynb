{
  "nbformat": 4,
  "nbformat_minor": 0,
  "metadata": {
    "colab": {
      "provenance": [],
      "authorship_tag": "ABX9TyMAGHuiTKBxm0pYXn6TLHP/",
      "include_colab_link": true
    },
    "kernelspec": {
      "name": "python3",
      "display_name": "Python 3"
    },
    "language_info": {
      "name": "python"
    }
  },
  "cells": [
    {
      "cell_type": "markdown",
      "metadata": {
        "id": "view-in-github",
        "colab_type": "text"
      },
      "source": [
        "<a href=\"https://colab.research.google.com/github/agussutaa/Tugas-Algoritma/blob/main/2208541012_PUTU_AGUS_ARYA_SUTA_TUGAS_IV.ipynb\" target=\"_parent\"><img src=\"https://colab.research.google.com/assets/colab-badge.svg\" alt=\"Open In Colab\"/></a>"
      ]
    },
    {
      "cell_type": "markdown",
      "source": [
        "Nama : Putu Agus Arya Suta\n",
        "\n",
        "NIM : 2208541012\n",
        "\n",
        "Kelas : A\n",
        "\n",
        "**PERTEMUAN 4 ALGORITMA & STRUKTUR DATA**\n",
        "\n",
        "Pada pertemuan kali ini dilakukan pembahasan mengenai 5 sub topik yaitu sebagai berikut.\n",
        "\n",
        "5.1 While\n",
        "\n",
        "5.2 List\n",
        "\n",
        "5.3 Metoda List\n",
        "\n",
        "5.4 For Loop\n",
        "\n",
        "5.5 Fungsi Range\n",
        "\n",
        "\n"
      ],
      "metadata": {
        "id": "Xnu9kj2otdK8"
      }
    },
    {
      "cell_type": "markdown",
      "source": [
        "**1. While**"
      ],
      "metadata": {
        "id": "z1quG9b2zNUj"
      }
    },
    {
      "cell_type": "code",
      "execution_count": null,
      "metadata": {
        "colab": {
          "base_uri": "https://localhost:8080/"
        },
        "id": "a2NyBWQwjF9V",
        "outputId": "5a95dd3c-288f-4359-87d6-6977efa37aff"
      },
      "outputs": [
        {
          "output_type": "stream",
          "name": "stdout",
          "text": [
            "10\n"
          ]
        }
      ],
      "source": [
        "#latihan while 1\n",
        "#while sama dengan logika matematika yaitu implikasi. pada kasus ini variabel akan terus dieksekusi jika boolean bernilai True dan akan berhenti bila bernilai salah\n",
        "#didefinisikan variabel p = 0\n",
        "p = 0\n",
        "#pada intruksi ini jika p bernilai kurang dari 8 maka akan dieksekusi pada bagian selanjutnya\n",
        "while p < 8 :\n",
        "#terdapat dua kali eksekusi dimana yang pertama nilai dari p dipangkat tiga\n",
        "  p = p**3\n",
        "#selanjutnya nilai p yang telah dipangkat 3 akan ditambah 2\n",
        "  p = p+2\n",
        "#selanjutnya dilakukan perintah mencetak variabel p\n",
        "print(p)\n",
        "#pada hasil cetak menunjukkan angka 10 yang dimana berasal dari 0 dipangkat tiga kemudian ditambah 2 dengan hasil 2\n",
        "#lalu karena 2 di loop maka kembali ke instruksi sebelumnya\n",
        "#2 kurang dari 8 maka dieksekusi dengan dipangkat 3 lalu ditambah 2 menghasilkan 10\n",
        "#angka 10 kembali dieksekusi pada perintah sebelumnya, namun karena 10 < 8 bernilai false maka eksekusi selesai"
      ]
    },
    {
      "cell_type": "code",
      "source": [
        "#latihan while 2\n",
        "#didefinisikan variabel b = 9\n",
        "b = 9\n",
        "#pada intruksi ini jika b bernilai kurang dari 8 maka akan dieksekusi pada bagian selanjutnya\n",
        "while b < 8 :\n",
        "#terdapat dua kali eksekusi dimana yang pertama nilai dari b dipangkat tiga\n",
        "  b = b**3\n",
        "#selanjutnya nilai b yang telah dipangkat 3 akan ditambah 2\n",
        "  b = b+2\n",
        "#selanjutnya dilakukan perintah mencetak variabel\n",
        "print(b)\n",
        "#pada hasil cetak menunjukkan angka 9 dimana karena pada syarat while 9 < 8 bernilai False, maka hasil langsung mencetak variabel b diketahui\n",
        "#sehingga eksekusi berhenti dan dicetak b = 9"
      ],
      "metadata": {
        "colab": {
          "base_uri": "https://localhost:8080/"
        },
        "id": "Cwi7kGhoumZ1",
        "outputId": "eaa84f41-f639-44c5-a68a-0880322a6bcc"
      },
      "execution_count": null,
      "outputs": [
        {
          "output_type": "stream",
          "name": "stdout",
          "text": [
            "9\n"
          ]
        }
      ]
    },
    {
      "cell_type": "code",
      "source": [
        "#latihan while 3\n",
        "#didefinisikan dua variabel x dan y\n",
        "x = 2\n",
        "y = 3\n",
        "#akan dieksekusi dengan while variabel x kurang dari 4\n",
        "while x < 4 :\n",
        "#terdapat dua kali eksekusi variabel x dan y\n",
        "#pertama x = x dikali variabel y\n",
        "    x = x*y\n",
        "#selanjutnya variabel x - 1\n",
        "    x = x-1\n",
        "#diberi perintah cetak variabel x dan y\n",
        "print(x)\n",
        "print(y)\n",
        "#pada hasil dimana variabel x dieksekusi dan berakhir ketika x = 5. Karena 5 < 4 bernilai False maka eksekusi while berhenti\n",
        "#hasil cetak variabel y = 3, karena variabel y tidak mengalami eksekusi"
      ],
      "metadata": {
        "colab": {
          "base_uri": "https://localhost:8080/"
        },
        "id": "9NNOdVExu5yb",
        "outputId": "91052439-5850-48bf-8236-682011c410cb"
      },
      "execution_count": null,
      "outputs": [
        {
          "output_type": "stream",
          "name": "stdout",
          "text": [
            "5\n",
            "3\n"
          ]
        }
      ]
    },
    {
      "cell_type": "code",
      "source": [
        "#latihan while 4\n",
        "#didefinisikan variabel q = 0\n",
        "q = 0\n",
        "#sama seperti latihan sebelumnya menggunakan sintaks while untuk menjalankan eksekusi\n",
        "while q < 2 :\n",
        "    y = q**2\n",
        "    q = q-1\n",
        "print(q)\n",
        "#pada hasil print yaitu loading atau error dikarenakan hasil eksekusi akan terus memenuhi syarat kurang dari 2 (bernilai True)\n",
        "#sehingga variabel q akan terus dieksekusi hingga dengan hasil akhir negatif tak hingga"
      ],
      "metadata": {
        "id": "OUd92fGZwKKe"
      },
      "execution_count": null,
      "outputs": []
    },
    {
      "cell_type": "code",
      "source": [
        "#latihan while 5\n",
        "#didefinisikan dua variabel jeruk dan apel \n",
        "jeruk = 3\n",
        "apel = 5\n",
        "#digunakan sintaks while sebagai eksekutor program dengan variabel jeruk yang diberi batas\n",
        "while jeruk  > 1 and jeruk < 5:\n",
        "#akan dieksekusi bila variabel jeruk bernilai True maka jeruk = jeruk ditambah apel\n",
        "  jeruk = jeruk + apel\n",
        "#diberi perintah cetak variabel jeruk\n",
        "print(jeruk)"
      ],
      "metadata": {
        "colab": {
          "base_uri": "https://localhost:8080/"
        },
        "id": "LnquSNo4xeEL",
        "outputId": "145f1ff6-535f-4da6-e8fb-ee2c364e778e"
      },
      "execution_count": null,
      "outputs": [
        {
          "output_type": "stream",
          "name": "stdout",
          "text": [
            "8\n"
          ]
        }
      ]
    },
    {
      "cell_type": "markdown",
      "source": [
        "**2. List di Python**"
      ],
      "metadata": {
        "id": "rRa45YvczSNb"
      }
    },
    {
      "cell_type": "code",
      "source": [
        "#latihan list 1 pada python\n",
        "#list dapat digunakan untuk merepresentasikan string atau angka\n",
        "#urutan pada list dapat dipanggil, dirubah\n",
        "#didefinisikan list 1 dengan variabel vektor 1 yang memuat beberapa angka\n",
        "vektor_1 = [1,2,3,4]\n",
        "#selanjutnya variabel kedua dengan nama vektor 2 yang memuat beberapa angka\n",
        "vektor_2 = [5,6,7,8,9,10]\n",
        "#pada bagian ini akan diprogram penjumlahan list pada vektor 1 dan 2\n",
        "vektor = vektor_1 + vektor_2\n",
        "#akan dicetak vektor yang telah dieksekusi sebelumnya\n",
        "print(vektor)\n",
        "#pada hasil cetak terlihat bawa terjadi penggabungan list pada variabel 1 dan 2\n",
        "#penjumlahan pada list ini bukan menambah tiap tiap angka tapi menggabungkan list dari setiap variabel berbeda"
      ],
      "metadata": {
        "colab": {
          "base_uri": "https://localhost:8080/"
        },
        "id": "9VLrTWwMzWVT",
        "outputId": "7e2e8cec-caf6-481d-f020-8c9f6a5e12e8"
      },
      "execution_count": null,
      "outputs": [
        {
          "output_type": "stream",
          "name": "stdout",
          "text": [
            "[1, 2, 3, 4, 5, 6, 7, 8, 9, 10]\n"
          ]
        }
      ]
    },
    {
      "cell_type": "code",
      "source": [
        "#type digunakan untuk mengetahui jenis dari variabel yang dideskripsikan\n",
        "type(vektor)"
      ],
      "metadata": {
        "colab": {
          "base_uri": "https://localhost:8080/"
        },
        "id": "bfyZz9KNz-fy",
        "outputId": "66841d84-b4bf-4f00-f66e-7031f977a45b"
      },
      "execution_count": null,
      "outputs": [
        {
          "output_type": "execute_result",
          "data": {
            "text/plain": [
              "list"
            ]
          },
          "metadata": {},
          "execution_count": 18
        }
      ]
    },
    {
      "cell_type": "code",
      "source": [
        "#latihan list 2 pada python\n",
        "#didefinisikan list dengan nama seng yang memuat beberapa string\n",
        "seng = ['suta', 'leo', 'eka', 'adina']\n",
        "#pada bagian ini diprogramkan untuk mencetak variabel seng\n",
        "print(seng)\n",
        "#karena tidak ada perintah eksekusi, maka secara otomatis isi dari list seng dicetak"
      ],
      "metadata": {
        "colab": {
          "base_uri": "https://localhost:8080/"
        },
        "id": "4Lgpbwec0MNM",
        "outputId": "5347ea67-3445-4b5c-e24a-7201f6893b1c"
      },
      "execution_count": null,
      "outputs": [
        {
          "output_type": "stream",
          "name": "stdout",
          "text": [
            "['suta', 'leo', 'eka', 'adina']\n"
          ]
        }
      ]
    },
    {
      "cell_type": "code",
      "source": [
        "#pada bagian ini diprogramkan untuk mencetak list pada seng dengan indeks 1\n",
        "print(seng[1])"
      ],
      "metadata": {
        "id": "L1k9OMx10llD"
      },
      "execution_count": null,
      "outputs": []
    },
    {
      "cell_type": "code",
      "source": [
        "#pada bagian ini diprogramkan untuk memanggil list pada seng dengan indeks -1\n",
        "#indeks -1 artinya urutan terakhir pada list\n",
        "print(seng[-1])"
      ],
      "metadata": {
        "colab": {
          "base_uri": "https://localhost:8080/"
        },
        "id": "LbP1kjXN0rGh",
        "outputId": "69eaa1b7-bfd4-41ca-fb43-64d56984a563"
      },
      "execution_count": null,
      "outputs": [
        {
          "output_type": "stream",
          "name": "stdout",
          "text": [
            "adina\n"
          ]
        }
      ]
    },
    {
      "cell_type": "code",
      "source": [
        "#pada bagian ini diprogramkan untuk memanggil list pada indeks dengan batas awal 0 dan batas akhir 2\n",
        "#ingat batas akhir yang dipanggil selalu dikurang 1 sehingga indeks yang tercetak dimulai dari 0 hingga 1 saja\n",
        "print(seng[0:2])"
      ],
      "metadata": {
        "colab": {
          "base_uri": "https://localhost:8080/"
        },
        "id": "eJK7ap4D1IBz",
        "outputId": "3fb9cfad-c263-4109-c412-878a86567c7f"
      },
      "execution_count": null,
      "outputs": [
        {
          "output_type": "stream",
          "name": "stdout",
          "text": [
            "['suta', 'leo']\n"
          ]
        }
      ]
    },
    {
      "cell_type": "code",
      "source": [
        "#pada bagian ini diprogramkan untuk mereplace atau merubah anggota di list\n",
        "#sebelumnya list pada seng dengan indeks 2 adalah eka namun sekarang kita ganti dengan martini\n",
        "seng[2] = 'martini'\n",
        "#selanjutnya akan dicetak list seng dengan anggota yang baru\n",
        "print(seng)"
      ],
      "metadata": {
        "colab": {
          "base_uri": "https://localhost:8080/"
        },
        "id": "oSJW6c1P006t",
        "outputId": "887b7216-b2da-4815-f9be-0a3d39078522"
      },
      "execution_count": null,
      "outputs": [
        {
          "output_type": "stream",
          "name": "stdout",
          "text": [
            "['suta', 'leo', 'martini', 'adina']\n"
          ]
        }
      ]
    },
    {
      "cell_type": "code",
      "source": [
        "print(seng)"
      ],
      "metadata": {
        "colab": {
          "base_uri": "https://localhost:8080/"
        },
        "id": "b9QFLtSD1Dki",
        "outputId": "053032a7-5b58-4857-c0ec-9ec97be0c5e6"
      },
      "execution_count": null,
      "outputs": [
        {
          "output_type": "stream",
          "name": "stdout",
          "text": [
            "['suta', 'leo', 'martini', 'adina']\n"
          ]
        }
      ]
    },
    {
      "cell_type": "code",
      "source": [
        "#pada bagian ini untuk mencetak jenis pada list seng dengan indeks awal 0 hingga indeks terakhir\n",
        "type(seng[0:])"
      ],
      "metadata": {
        "colab": {
          "base_uri": "https://localhost:8080/"
        },
        "id": "_zxDNZGJ1TyM",
        "outputId": "bb9c63b2-3589-418b-bd79-4d1da0cedfbe"
      },
      "execution_count": null,
      "outputs": [
        {
          "output_type": "execute_result",
          "data": {
            "text/plain": [
              "list"
            ]
          },
          "metadata": {},
          "execution_count": 29
        }
      ]
    },
    {
      "cell_type": "markdown",
      "source": [
        "**3. Metode List**"
      ],
      "metadata": {
        "id": "7iTC1Y9u1lKq"
      }
    },
    {
      "cell_type": "code",
      "source": [
        "#latihan metoda list 1\n",
        "#didefinisikan list dengan nama pelangi yang memuat beberapa anggota sebagai berikut.\n",
        "pelangi = ['merah', 'oranye', 'kuning', 'hijau', 'biru', 'nila']\n",
        "#selanjutnya akan ditambah anggota dari list pelangi menggunakan append\n",
        "pelangi.append ('ungu')\n",
        "#pada bagian ini akan dicetak list pelangi yang baru dengan penambahan anggota\n",
        "print (pelangi)"
      ],
      "metadata": {
        "colab": {
          "base_uri": "https://localhost:8080/"
        },
        "id": "X9aSiC-cV_7x",
        "outputId": "a483f1ef-ffc9-4a9f-ba9d-652ee92b9773"
      },
      "execution_count": null,
      "outputs": [
        {
          "output_type": "stream",
          "name": "stdout",
          "text": [
            "['merah', 'oranye', 'kuning', 'hijau', 'biru', 'nila', 'ungu']\n"
          ]
        }
      ]
    },
    {
      "cell_type": "code",
      "source": [
        "#pada bagian ini akan diinput penambahan anggota list namun menggunakan insert\n",
        "#program ini akan menginput anggota coklat pada indeks 1\n",
        "pelangi.insert (1, 'coklat')\n",
        "#selanjutnya akan dicetak list pelangi setelah diinsert anggota baru pada indeks 1\n",
        "print (pelangi)"
      ],
      "metadata": {
        "colab": {
          "base_uri": "https://localhost:8080/"
        },
        "id": "1l0S1y2NW74j",
        "outputId": "6698d08c-8e1b-46e5-9c73-107f66defb10"
      },
      "execution_count": null,
      "outputs": [
        {
          "output_type": "stream",
          "name": "stdout",
          "text": [
            "['merah', 'coklat', 'oranye', 'kuning', 'hijau', 'biru', 'nila', 'ungu']\n"
          ]
        }
      ]
    },
    {
      "cell_type": "code",
      "source": [
        "#pada bagian ini kita bisa menghapus anggota yang terdaftar pada list menggunakan remove\n",
        "pelangi.remove('oranye')\n",
        "#selanjutnya akan dicetak list pelangi dengan 1 anggota yang dihapus pada list\n",
        "print (pelangi)"
      ],
      "metadata": {
        "colab": {
          "base_uri": "https://localhost:8080/"
        },
        "id": "wHcaMNqgXlxg",
        "outputId": "7755bac3-9b3f-4daf-e119-68365b8e523f"
      },
      "execution_count": null,
      "outputs": [
        {
          "output_type": "stream",
          "name": "stdout",
          "text": [
            "['merah', 'coklat', 'kuning', 'hijau', 'biru', 'nila', 'ungu']\n"
          ]
        }
      ]
    },
    {
      "cell_type": "code",
      "source": [
        "#akan dicoba menggunakan remove namun dengan anggota yang tidak ada pada list\n",
        "pelangi.remove('hitam')\n",
        "print(pelangi)\n",
        "#hasil menjadi error karena memang string yg dimasukkan bukan merupakan anggota pelangi"
      ],
      "metadata": {
        "colab": {
          "base_uri": "https://localhost:8080/",
          "height": 201
        },
        "id": "Vccj0gz7YFth",
        "outputId": "ee0d5f06-97fb-4b7a-be87-d913726cfbb5"
      },
      "execution_count": null,
      "outputs": [
        {
          "output_type": "error",
          "ename": "ValueError",
          "evalue": "ignored",
          "traceback": [
            "\u001b[0;31m---------------------------------------------------------------------------\u001b[0m",
            "\u001b[0;31mValueError\u001b[0m                                Traceback (most recent call last)",
            "\u001b[0;32m<ipython-input-7-a24a6a21d359>\u001b[0m in \u001b[0;36m<cell line: 2>\u001b[0;34m()\u001b[0m\n\u001b[1;32m      1\u001b[0m \u001b[0;31m#akan dicoba menggunakan remove namun dengan anggota yang tidak ada pada list\u001b[0m\u001b[0;34m\u001b[0m\u001b[0;34m\u001b[0m\u001b[0m\n\u001b[0;32m----> 2\u001b[0;31m \u001b[0mpelangi\u001b[0m\u001b[0;34m.\u001b[0m\u001b[0mremove\u001b[0m\u001b[0;34m(\u001b[0m\u001b[0;34m'hitam'\u001b[0m\u001b[0;34m)\u001b[0m\u001b[0;34m\u001b[0m\u001b[0;34m\u001b[0m\u001b[0m\n\u001b[0m\u001b[1;32m      3\u001b[0m \u001b[0mprint\u001b[0m\u001b[0;34m(\u001b[0m\u001b[0mpelangi\u001b[0m\u001b[0;34m)\u001b[0m\u001b[0;34m\u001b[0m\u001b[0;34m\u001b[0m\u001b[0m\n",
            "\u001b[0;31mValueError\u001b[0m: list.remove(x): x not in list"
          ]
        }
      ]
    },
    {
      "cell_type": "code",
      "source": [
        "#pada bagian ini merupakan boolean yang hasil akhirnya berupa True or False\n",
        "#dengan menanyakan apakah terdapat anggota list (string) yang dimaksud pada list\n",
        "print ('biru' in pelangi)\n",
        "print ('putih' in pelangi)\n",
        "#hasil pertama bernilai true karena biru merupakan anggota list\n",
        "#hasil kedua bernilai false karena putih bukan merupakan anggota pada list"
      ],
      "metadata": {
        "colab": {
          "base_uri": "https://localhost:8080/"
        },
        "id": "8PNGlIgDYgyl",
        "outputId": "dc81577e-6d84-4b2c-9354-046e904c07f4"
      },
      "execution_count": null,
      "outputs": [
        {
          "output_type": "stream",
          "name": "stdout",
          "text": [
            "True\n",
            "False\n"
          ]
        }
      ]
    },
    {
      "cell_type": "code",
      "source": [
        "#pada bagian ini akan ditunjukkan berapa banyak indeks yang terdapat pada list dengan menggunakan len\n",
        "print(len(pelangi))\n",
        "#hasil menunjukkan 7, dengan demikian berarti terdapat 7 indeks pada list"
      ],
      "metadata": {
        "colab": {
          "base_uri": "https://localhost:8080/"
        },
        "id": "ZvQxkML-ZF2P",
        "outputId": "d2164add-f924-45ab-c674-85226ec5e31f"
      },
      "execution_count": null,
      "outputs": [
        {
          "output_type": "stream",
          "name": "stdout",
          "text": [
            "7\n"
          ]
        }
      ]
    },
    {
      "cell_type": "markdown",
      "source": [
        "**4. For Loop**"
      ],
      "metadata": {
        "id": "Q_VElY0f2Lii"
      }
    },
    {
      "cell_type": "code",
      "source": [
        "#latihan 1 for loop untuk python\n",
        "#didefinisikan list bernama seng dengan anggota string\n",
        "seng = ['suta', 'leo', 'eka', 'adina']\n",
        "#pada bagian ini digunakan for untuk memanggil anggota list pada seng yang diinterpretasikan sebagai human\n",
        "for human in seng:\n",
        "#selanjutnya anggota list yang dinamai human tadi dicetak pada bagian ini\n",
        "  print(human)"
      ],
      "metadata": {
        "colab": {
          "base_uri": "https://localhost:8080/"
        },
        "id": "CdHGhawr66no",
        "outputId": "643b6a08-5c4f-4c42-c5d8-f0a1e0637351"
      },
      "execution_count": null,
      "outputs": [
        {
          "output_type": "stream",
          "name": "stdout",
          "text": [
            "suta\n",
            "leo\n",
            "eka\n",
            "adina\n"
          ]
        }
      ]
    },
    {
      "cell_type": "code",
      "source": [
        "#latihan for loop 2\n",
        "#didefinisikan list dengan anggota berbentuk string bernama kelas\n",
        "kelas = ['a', 'b', 'c', 'd', 'e', 'f', 'g']\n",
        "#selanjutnya anggota list pada kelas dinamai sebagai klp kemudian dipanggil menggunakan for\n",
        "#pemanggilan anggota list diambil dengan indeks batas awal 0 dan batas akhir 3\n",
        "for klp in kelas [0:3] :\n",
        "#pada bagian ini klp yang tadi telah diinterpretasikan kemudian dicetak sesuai perintah dengan syarat indeks 0 sampai 3\n",
        "  print(klp)\n",
        "#pada hasil dicetak a,b,c\n",
        "#karena batas awalnya indeks 0 yaitu suku pertama dan batas akhirnya 3 yang selalu dikurang 1 sehingga menjadi indeks kedua"
      ],
      "metadata": {
        "colab": {
          "base_uri": "https://localhost:8080/"
        },
        "id": "XddQudwf7uUa",
        "outputId": "f988726b-6d57-4299-c675-da194607bb8a"
      },
      "execution_count": null,
      "outputs": [
        {
          "output_type": "stream",
          "name": "stdout",
          "text": [
            "a\n",
            "b\n",
            "c\n"
          ]
        }
      ]
    },
    {
      "cell_type": "code",
      "source": [
        "#latihan for loop 3\n",
        "#pada bagian ini tanpa mendefinisikan list kita bisa langsung memanggil anggota list menggunakan for\n",
        "#namun dengan catatan kita akan memanggil apa pada apa. Karena kita tidak memberikan list diawal, maka kita berikan list pada pemanggilannya \n",
        "#dicontohkan dengan memanggil q pada list berbentuk angka\n",
        "for q in [1,2,3,4,5]:\n",
        "#kemudian didefinisikan p dengan q dikali 3\n",
        "  p = q*3\n",
        "#pada bagian ini dicetak p yang telah melewati proses eksekusi\n",
        "  print(p)"
      ],
      "metadata": {
        "colab": {
          "base_uri": "https://localhost:8080/"
        },
        "id": "KkV6XIcU-bNB",
        "outputId": "00947b78-3544-4cc9-8291-3d8184d93215"
      },
      "execution_count": null,
      "outputs": [
        {
          "output_type": "stream",
          "name": "stdout",
          "text": [
            "3\n",
            "6\n",
            "9\n",
            "12\n",
            "15\n"
          ]
        }
      ]
    },
    {
      "cell_type": "markdown",
      "source": [
        "**5. Range**"
      ],
      "metadata": {
        "id": "g7pGicCE5g_y"
      }
    },
    {
      "cell_type": "code",
      "source": [
        "#latihan 1 fungsi range\n",
        "#kita akan memanggil anggota menggunakan for yang didefinisikan sebagai a pada list kelas dengan fungsi range pada len kelas\n",
        "#fungsi range digunakan untuk membangkitkan urutan atau pola yang kita ingin\n",
        "for a in range(len(kelas)):\n",
        "#selanjutnya pada bagian ini dicetak kelas dengan syarat a tadi\n",
        "  print(kelas[a])"
      ],
      "metadata": {
        "colab": {
          "base_uri": "https://localhost:8080/"
        },
        "id": "uySV7uXs90Iu",
        "outputId": "419b51e6-b3b4-4a6b-eb69-3978f8b8c05d"
      },
      "execution_count": null,
      "outputs": [
        {
          "output_type": "stream",
          "name": "stdout",
          "text": [
            "a\n",
            "b\n",
            "c\n",
            "d\n",
            "e\n",
            "f\n",
            "g\n"
          ]
        }
      ]
    },
    {
      "cell_type": "code",
      "source": [
        "#latihan 2 fungsi range\n",
        "#pada bagian ini kita akan mengecek berapa banyak anggota namun dengan hasil indeks menggunakan fungsi range dan len\n",
        "print(range(len(kelas)))"
      ],
      "metadata": {
        "colab": {
          "base_uri": "https://localhost:8080/"
        },
        "id": "9Zki92-o_U2Z",
        "outputId": "c1ff6f97-4d27-4a68-a47c-a62d58704a84"
      },
      "execution_count": null,
      "outputs": [
        {
          "output_type": "stream",
          "name": "stdout",
          "text": [
            "range(0, 7)\n"
          ]
        }
      ]
    },
    {
      "cell_type": "code",
      "source": [
        "#latihan 3 fungsi range\n",
        "#sama dengan latihan 1 kita akan memanggil anggota menggunakan for yang didefinisikan sebagai i pada list seng dengan fungsi range pada len seng\n",
        "#fungsi range digunakan untuk membangkitkan urutan atau pola yang kita ingin\n",
        "for i in range(len(seng)):\n",
        "#selanjutnya pada bagian ini dicetak seng dengan syarat i tadi\n",
        "  print(seng[i])"
      ],
      "metadata": {
        "colab": {
          "base_uri": "https://localhost:8080/"
        },
        "id": "-7DDBkhK-IIh",
        "outputId": "43c4d7e0-688b-434c-cd34-8d64780cb118"
      },
      "execution_count": null,
      "outputs": [
        {
          "output_type": "stream",
          "name": "stdout",
          "text": [
            "suta\n",
            "leo\n",
            "eka\n",
            "adina\n"
          ]
        }
      ]
    },
    {
      "cell_type": "code",
      "source": [
        "#latihan 4 fungsi range\n",
        "#pada bagian ini kita akan mengecek berapa banyak anggota namun dengan hasil indeks menggunakan fungsi range dan len\n",
        "print(range(len(seng)))"
      ],
      "metadata": {
        "colab": {
          "base_uri": "https://localhost:8080/"
        },
        "id": "x2SrOGZ1AKYe",
        "outputId": "0ee243ea-dc74-4e58-ea16-5bf8b38635ba"
      },
      "execution_count": null,
      "outputs": [
        {
          "output_type": "stream",
          "name": "stdout",
          "text": [
            "range(0, 4)\n"
          ]
        }
      ]
    },
    {
      "cell_type": "markdown",
      "source": [],
      "metadata": {
        "id": "xgQbUbdB6nSn"
      }
    }
  ]
}