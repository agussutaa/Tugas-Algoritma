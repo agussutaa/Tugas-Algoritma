{
  "nbformat": 4,
  "nbformat_minor": 0,
  "metadata": {
    "colab": {
      "provenance": [],
      "authorship_tag": "ABX9TyN2VgvsyfndC6MaAo/8cAA2",
      "include_colab_link": true
    },
    "kernelspec": {
      "name": "python3",
      "display_name": "Python 3"
    },
    "language_info": {
      "name": "python"
    }
  },
  "cells": [
    {
      "cell_type": "markdown",
      "metadata": {
        "id": "view-in-github",
        "colab_type": "text"
      },
      "source": [
        "<a href=\"https://colab.research.google.com/github/agussutaa/Tugas-Algoritma/blob/main/2208541012_Putu_Agus_Arya_Suta_Tugas_V.ipynb\" target=\"_parent\"><img src=\"https://colab.research.google.com/assets/colab-badge.svg\" alt=\"Open In Colab\"/></a>"
      ]
    },
    {
      "cell_type": "markdown",
      "source": [
        "Nama : Putu Agus Arya Suta\n",
        "\n",
        "NIM :220854012\n",
        "\n",
        "Kelas : A\n",
        "\n",
        "\n",
        "**Pertemuan 5 Algoritma dan Struktur Data**\n",
        "\n",
        "Pada pertemuan kali ini ada beberapa pembahasan mengenai materi pendahuluan diantaranya sebagai berikut.\n",
        "\n",
        "\n",
        "1.   List 2 Dimensi\n",
        "2.   Tuples\n",
        "3. Dictionaries\n",
        "4. Fungsi pada Python\n",
        "5. Numpy\n",
        "\n",
        "\n",
        "\n",
        "\n",
        "\n"
      ],
      "metadata": {
        "id": "59uUnRrApCqw"
      }
    },
    {
      "cell_type": "markdown",
      "source": [
        "1. List 2 Dimensi"
      ],
      "metadata": {
        "id": "T3TZZTETpiUW"
      }
    },
    {
      "cell_type": "code",
      "execution_count": null,
      "metadata": {
        "colab": {
          "base_uri": "https://localhost:8080/"
        },
        "id": "UIzl2yCjgtOI",
        "outputId": "9b3a5a91-53ae-4701-920b-e47708b12570"
      },
      "outputs": [
        {
          "output_type": "stream",
          "name": "stdout",
          "text": [
            "[[1, 2, 3, 4, 5], [6, 7, 8, 9, 10], [11, 12, 13, 14, 5], [16, 17, 18, 19, 20]]\n"
          ]
        }
      ],
      "source": [
        "#Pada latihan kali ini kita akan menunjukkan list 2 dimensi\n",
        "#umunya list 2 dimensi untuk menampilkan list di dalam list contohnya itu matriks\n",
        "#contohnya pada dibawah ini didefinisikan 4 buah list dalam satu list bernama matriks\n",
        "matriks = [\n",
        "    [1,2,3,4,5],\n",
        "    [6,7,8,9,10],\n",
        "    [11,12,13,14,5],\n",
        "    [16,17,18,19,20]\n",
        "]\n",
        "#selanjutnya akan dieksekusi untuk mencetak list matriks yang telah didefinisikan sebelumnya\n",
        "print(matriks)\n",
        "#pada hasil terlihat hasil masih berupa list matriks ukuran 1 x 5 sebanyak 4 list"
      ]
    },
    {
      "cell_type": "code",
      "source": [
        "#pada bagian ini kita akan menampilkan indeks pada list bernama matriks\n",
        "#perlu diingat bahwa indeks selalu dimulai dari 0 dan diakhiri dengan -1\n",
        "#sehingga ketika kita ingin memanggil list dengan indeks 1 maka akan tercetak list yakni [6,7,8,9,10]\n",
        "matriks[1]"
      ],
      "metadata": {
        "colab": {
          "base_uri": "https://localhost:8080/"
        },
        "id": "MPSo8tSUqO22",
        "outputId": "c7571ab9-9a26-4d8b-b00e-d0facf185e1c"
      },
      "execution_count": null,
      "outputs": [
        {
          "output_type": "execute_result",
          "data": {
            "text/plain": [
              "[6, 7, 8, 9, 10]"
            ]
          },
          "metadata": {},
          "execution_count": 5
        }
      ]
    },
    {
      "cell_type": "code",
      "source": [
        "#pada bagian ini bertujuan untuk memanggil jumlah list yang ada dari indeks 0 sampai indeks 2\n",
        "#karena dari 0-2 terdapat 3 buah list, maka hasil akan tercetak 3\n",
        "matriks[0][2]"
      ],
      "metadata": {
        "colab": {
          "base_uri": "https://localhost:8080/"
        },
        "id": "3CB95KnkqSVo",
        "outputId": "46b3ca2c-7263-4626-e900-a8609d94c9ce"
      },
      "execution_count": null,
      "outputs": [
        {
          "output_type": "execute_result",
          "data": {
            "text/plain": [
              "3"
            ]
          },
          "metadata": {},
          "execution_count": 7
        }
      ]
    },
    {
      "cell_type": "code",
      "source": [
        "#pada bagian ini akan dipanggil list pada list matriks dengan indeks 0 sampai 2\n",
        "#bedanya dengan kode sebelumnya yakni untuk menentukan banyaknya list yang ada, namun pada kode ini untuk memanggil list yang ada pada indeks tersebut\n",
        "#ingat indeks terakhir selalu tidak ikut, sehingga list yang tercetak dimulai dari indeks 0 sampai indeks 1 saja\n",
        "matriks[0:2]"
      ],
      "metadata": {
        "colab": {
          "base_uri": "https://localhost:8080/"
        },
        "id": "eXDbAGOhqagO",
        "outputId": "29201870-62cc-40d9-cf13-fc2f72020f77"
      },
      "execution_count": null,
      "outputs": [
        {
          "output_type": "execute_result",
          "data": {
            "text/plain": [
              "[[1, 2, 3, 4, 5], [6, 7, 8, 9, 10]]"
            ]
          },
          "metadata": {},
          "execution_count": 10
        }
      ]
    },
    {
      "cell_type": "code",
      "source": [
        "#sama seperti latihan sebelumnya, type digunakan untuk menentukan tipe jenis data\n",
        "#pada kali ini akan ditentukan tipe data untuk list yang didefinisikan dengan matriks indeks 1\n",
        "type(matriks[1])\n",
        "#hasil menunjukkan bahwa tipe data pada matriks indeks 1 yakni list"
      ],
      "metadata": {
        "colab": {
          "base_uri": "https://localhost:8080/"
        },
        "id": "vwR3XZWVqlP8",
        "outputId": "ebf67788-782c-42be-eab1-82cbc102da52"
      },
      "execution_count": null,
      "outputs": [
        {
          "output_type": "execute_result",
          "data": {
            "text/plain": [
              "list"
            ]
          },
          "metadata": {},
          "execution_count": 11
        }
      ]
    },
    {
      "cell_type": "code",
      "source": [
        "#tiap list di dalam list dapat digabungkan dengan menggunakan tanda +\n",
        "#pada bagian ini akan dilakukan penggabungan matriks dengan indeks 1 [6,7,8,9,10] dan indeks 2 [11,12,13,14,,15]\n",
        "matriks[1]+matriks[2]"
      ],
      "metadata": {
        "colab": {
          "base_uri": "https://localhost:8080/"
        },
        "id": "6y_X9paLqrnW",
        "outputId": "0d2ab264-070d-4927-bf1c-f4fa6fc928e0"
      },
      "execution_count": null,
      "outputs": [
        {
          "output_type": "execute_result",
          "data": {
            "text/plain": [
              "[6, 7, 8, 9, 10, 11, 12, 13, 14, 5]"
            ]
          },
          "metadata": {},
          "execution_count": 17
        }
      ]
    },
    {
      "cell_type": "code",
      "source": [
        "#pada bagian ini akan ditentukan banyak list pada list bernama matriks\n",
        "print(len(matriks))\n",
        "#hasil menunjukkan bahwa terdapat 4 list yang disatukan dalam satu list bernama matriks"
      ],
      "metadata": {
        "colab": {
          "base_uri": "https://localhost:8080/"
        },
        "id": "o_9rVhxbqxq2",
        "outputId": "8b1c0e37-a60f-40bf-d20c-fab67cd6feca"
      },
      "execution_count": null,
      "outputs": [
        {
          "output_type": "stream",
          "name": "stdout",
          "text": [
            "4\n"
          ]
        }
      ]
    },
    {
      "cell_type": "code",
      "source": [
        "#contoh lain dari penerapan list 2 dimensi adalah sebagai berikut.\n",
        "#digunakan type for dengan matriks yang didefinisikan sebagai baris\n",
        "for baris in matriks:\n",
        "#selanjutnya akan dieksekusi dengan mencetak baris yang telah didefinisikan sebelumnya\n",
        "  print (baris)\n",
        "  #pada bagian ini pula kembali dilakukan perulangan dengan baris yang sebelumnya kembali didefinisikan sebagai kolom\n",
        "  for kolom in baris:\n",
        "    #dilanjutkan dengan eksekusi mencetak kolom yang sebelumnya sudah didefinisikan\n",
        "    print(kolom)\n",
        "#hasil dari penerapan list 2 dimensi dengan tipe perulangan for sebagai berikut.\n",
        "#dapat dilihat untuk baris pada masing-masing berubah menjadi kolom (bentuk vertikal)"
      ],
      "metadata": {
        "colab": {
          "base_uri": "https://localhost:8080/"
        },
        "id": "XrsaFO5VtCkV",
        "outputId": "a5a24e36-4948-4569-a19c-408d3cd8d160"
      },
      "execution_count": null,
      "outputs": [
        {
          "output_type": "stream",
          "name": "stdout",
          "text": [
            "[1, 2, 3, 4, 5]\n",
            "1\n",
            "2\n",
            "3\n",
            "4\n",
            "5\n",
            "[6, 7, 8, 9, 10]\n",
            "6\n",
            "7\n",
            "8\n",
            "9\n",
            "10\n",
            "[11, 12, 13, 14, 5]\n",
            "11\n",
            "12\n",
            "13\n",
            "14\n",
            "5\n",
            "[16, 17, 18, 19, 20]\n",
            "16\n",
            "17\n",
            "18\n",
            "19\n",
            "20\n"
          ]
        }
      ]
    },
    {
      "cell_type": "markdown",
      "source": [
        "2. Tuples"
      ],
      "metadata": {
        "id": "NcvqJupzrSwm"
      }
    },
    {
      "cell_type": "code",
      "source": [
        "#latihan selanjutnya ialah tuple\n",
        "#tuple itu mirip dengan list, bedanya tuple merupakan data yang tidak bisa dirubah sedangkan list bisa\n",
        "#yang saya pahami perbedan list dan tuple yakni pada pendefinisian datanya. kalau list pakai kurung siku [] sedangkan tuples pakai kurung biasa ()\n",
        "#selanjutnya untuk latihan awal didefinisikan tuple dengan nama angka dengan beberapa elemen\n",
        "angka = (0,1,2,3,2,4,3,1)\n",
        "#pada bagian ini akan dieksekusi tuples bernama angka dengan indeks 4. Ingat! indeks dimulai dari 0 sampai -1\n",
        "print(angka[4])\n",
        "#hasil menunjjukan tuple angka dengan indeks 4 adalah 2"
      ],
      "metadata": {
        "colab": {
          "base_uri": "https://localhost:8080/"
        },
        "id": "IErrDGLcrTDA",
        "outputId": "8c7cabb0-31b7-44e7-e284-0ef72f23569e"
      },
      "execution_count": null,
      "outputs": [
        {
          "output_type": "stream",
          "name": "stdout",
          "text": [
            "2\n"
          ]
        }
      ]
    },
    {
      "cell_type": "code",
      "source": [
        "#pada bagian ini akan ditunjukkan jenis dari variabel angka\n",
        "type(angka)\n",
        "#hasil menunjukkan bahwa data yang didefnisikan sebagai angka merupakan data dengan tipe tuple"
      ],
      "metadata": {
        "colab": {
          "base_uri": "https://localhost:8080/"
        },
        "id": "n3kE8h0nvmRm",
        "outputId": "f40144bd-eeef-4802-8c4f-ff1bf83d6f3c"
      },
      "execution_count": null,
      "outputs": [
        {
          "output_type": "execute_result",
          "data": {
            "text/plain": [
              "tuple"
            ]
          },
          "metadata": {},
          "execution_count": 32
        }
      ]
    },
    {
      "cell_type": "code",
      "source": [
        "#pada bagian ini akan dicetak tuple bernama angka dengan indeks 3 sampai 5\n",
        "#selalu diingat bahwa indeks terakhir tidak ikut dieksekusi sehingga yang tercetak hanyalah indeks 3 dan 4 saja\n",
        "print (angka[3:5])\n",
        "#pada hasil menunjukkan data tuple dengan indeks 3 dan 4 yakni (3,2)"
      ],
      "metadata": {
        "colab": {
          "base_uri": "https://localhost:8080/"
        },
        "id": "EHwWF5zfuM31",
        "outputId": "9b461217-cbc3-4ab2-9c61-d5b52e0fb5f8"
      },
      "execution_count": null,
      "outputs": [
        {
          "output_type": "stream",
          "name": "stdout",
          "text": [
            "(3, 2)\n"
          ]
        }
      ]
    },
    {
      "cell_type": "code",
      "source": [
        "#contoh dari tuple lainnya ialah sebagai berikut.\n",
        "#digunakan tipe perulangan for untuk mencetak anggota dari tuple angka\n",
        "#didefinisikan elemen pada angka dengan indeks batas akhir -1 yang mana artinya seluruh data pada tuple sampai indeks -2\n",
        "for elemen in angka[:-1]:\n",
        "  #selanjutnya pada bagian ini akan dicetak elemen yang telah didefinisikan sebelumnya\n",
        "  print(elemen)"
      ],
      "metadata": {
        "colab": {
          "base_uri": "https://localhost:8080/"
        },
        "id": "8bg1QuKYuS3V",
        "outputId": "d2906836-25e5-4b3f-d44f-90a039f425cc"
      },
      "execution_count": null,
      "outputs": [
        {
          "output_type": "stream",
          "name": "stdout",
          "text": [
            "0\n",
            "1\n",
            "2\n",
            "3\n",
            "2\n",
            "4\n",
            "3\n"
          ]
        }
      ]
    },
    {
      "cell_type": "code",
      "source": [
        "#pada bagian ini akan dilakukan percobaan untuk mengganti atau menghapus data pada tuple\n",
        "angka[0] = 3\n",
        "angka.append[4]\n",
        "angka.remove[3]\n",
        "#hasil pada kode ini menjadi error bukan sebab kesalahan pada sintaks, melainkan karena data pada tuple memang mutlak dan tidak dapat dirubah\n",
        "#beda halnya dengan data tipe list yang bisa direplace, dihapus, ditambah dan sebagainya\n"
      ],
      "metadata": {
        "colab": {
          "base_uri": "https://localhost:8080/",
          "height": 218
        },
        "id": "k9bS4ySluifr",
        "outputId": "e9f3b0b1-33e0-4864-dc50-5838dd9506c8"
      },
      "execution_count": null,
      "outputs": [
        {
          "output_type": "error",
          "ename": "NameError",
          "evalue": "ignored",
          "traceback": [
            "\u001b[0;31m---------------------------------------------------------------------------\u001b[0m",
            "\u001b[0;31mNameError\u001b[0m                                 Traceback (most recent call last)",
            "\u001b[0;32m<ipython-input-1-35ad7ea0a48b>\u001b[0m in \u001b[0;36m<cell line: 1>\u001b[0;34m()\u001b[0m\n\u001b[0;32m----> 1\u001b[0;31m \u001b[0mangka\u001b[0m\u001b[0;34m[\u001b[0m\u001b[0;36m0\u001b[0m\u001b[0;34m]\u001b[0m \u001b[0;34m=\u001b[0m \u001b[0;36m3\u001b[0m\u001b[0;34m\u001b[0m\u001b[0;34m\u001b[0m\u001b[0m\n\u001b[0m\u001b[1;32m      2\u001b[0m \u001b[0mangka\u001b[0m\u001b[0;34m.\u001b[0m\u001b[0mappend\u001b[0m\u001b[0;34m[\u001b[0m\u001b[0;36m4\u001b[0m\u001b[0;34m]\u001b[0m\u001b[0;34m\u001b[0m\u001b[0;34m\u001b[0m\u001b[0m\n\u001b[1;32m      3\u001b[0m \u001b[0mangka\u001b[0m\u001b[0;34m.\u001b[0m\u001b[0mremove\u001b[0m\u001b[0;34m[\u001b[0m\u001b[0;36m3\u001b[0m\u001b[0;34m]\u001b[0m\u001b[0;34m\u001b[0m\u001b[0;34m\u001b[0m\u001b[0m\n\u001b[1;32m      4\u001b[0m \u001b[0;34m\u001b[0m\u001b[0m\n",
            "\u001b[0;31mNameError\u001b[0m: name 'angka' is not defined"
          ]
        }
      ]
    },
    {
      "cell_type": "code",
      "source": [
        "\n",
        "angka.count(2)"
      ],
      "metadata": {
        "colab": {
          "base_uri": "https://localhost:8080/"
        },
        "id": "MEXdUrC9vzqt",
        "outputId": "1525f53d-8dd0-43bb-b28c-163a1b35e53d"
      },
      "execution_count": null,
      "outputs": [
        {
          "output_type": "execute_result",
          "data": {
            "text/plain": [
              "2"
            ]
          },
          "metadata": {},
          "execution_count": 34
        }
      ]
    },
    {
      "cell_type": "markdown",
      "source": [
        "3. Dictionaries"
      ],
      "metadata": {
        "id": "zQrYFwxrvtin"
      }
    },
    {
      "cell_type": "code",
      "source": [
        "#latihan selanjutnya ialah mengenai dictionaries\n",
        "#data pada dictionaries itu digunakan ketika datanya saling berkaitan satu sama lain\n",
        "#contoh pada kode berikut ini yakni dictionaries mengenai data orang\n",
        "data_orang = {                         #selalu gunakan kurung kurawal pada dictionaries untuk mengaitkan data satu dan data selanjutnya\n",
        "    'nama' : 'suta',\n",
        "    \"umur\" : 19,\n",
        "    'pernah_kelupaan?' : True\n",
        " }"
      ],
      "metadata": {
        "id": "RwIOBFbRvq7Q"
      },
      "execution_count": null,
      "outputs": []
    },
    {
      "cell_type": "code",
      "source": [
        " #pada bagian ini akan dieksekusi dengan mencetak data_orang yakni berupa nama yang telah didefinisikan sebelumnya\n",
        " print(data_orang['nama'])"
      ],
      "metadata": {
        "colab": {
          "base_uri": "https://localhost:8080/"
        },
        "id": "tcHXNirUzi5X",
        "outputId": "d999ff61-17e2-4257-9d98-6b036a62eb72"
      },
      "execution_count": null,
      "outputs": [
        {
          "output_type": "stream",
          "name": "stdout",
          "text": [
            "suta\n"
          ]
        }
      ]
    },
    {
      "cell_type": "code",
      "source": [
        " #sama halnya dengan kode sebelumnya hanya menggunakan get untuk memanggil data berupa nama\n",
        " print(data_orang.get('nama'))"
      ],
      "metadata": {
        "colab": {
          "base_uri": "https://localhost:8080/"
        },
        "id": "hGa47AGYzmj0",
        "outputId": "940285e9-e610-4a82-dfa4-d48f60abfa7b"
      },
      "execution_count": null,
      "outputs": [
        {
          "output_type": "stream",
          "name": "stdout",
          "text": [
            "suta\n"
          ]
        }
      ]
    },
    {
      "cell_type": "code",
      "source": [
        "#pada bagian ini akan dicetak data orang namun menggunakan get untuk menambahkan data yang sebelumnya belum didefinisikan\n",
        "#penambahan hanya tinggal menambahkan get lalu mendefinisikan apa yang ingin dipanggil\n",
        "print(data_orang.get('tanggal_lahir', '11-April=2004'))"
      ],
      "metadata": {
        "colab": {
          "base_uri": "https://localhost:8080/"
        },
        "id": "zrRkX9d6zu8b",
        "outputId": "5bb5ce68-087d-4d54-ba13-df7408d9bfeb"
      },
      "execution_count": null,
      "outputs": [
        {
          "output_type": "stream",
          "name": "stdout",
          "text": [
            "11-April=2004\n"
          ]
        }
      ]
    },
    {
      "cell_type": "code",
      "source": [
        "#pada bagian ini akan dicetak keseluruhan data untuk data orang\n",
        "print(data_orang)\n",
        "#hasil menunjukkan data-data yang telah didefinisikan berupa nama, umur, dan pertanyaan dengan nilai true atau false"
      ],
      "metadata": {
        "colab": {
          "base_uri": "https://localhost:8080/"
        },
        "id": "fC3osbllz9yM",
        "outputId": "149a24ed-0f99-4ad8-8389-ea12a6108e80"
      },
      "execution_count": null,
      "outputs": [
        {
          "output_type": "stream",
          "name": "stdout",
          "text": [
            "{'nama': 'suta', 'umur': 19, 'pernah_kelupaan?': True}\n"
          ]
        }
      ]
    },
    {
      "cell_type": "code",
      "source": [
        "#data dari dictionaries sama halnya dengan data seperti list yang dapat ditambahkan\n",
        "#ditambah kembali untuk data dengan definisi HP pada data orang\n",
        "data_orang['HP'] = '088811188118'\n",
        "#selanjutnya akan dicetak data orang dengan nama data HP\n",
        "print(data_orang['HP'])"
      ],
      "metadata": {
        "colab": {
          "base_uri": "https://localhost:8080/"
        },
        "id": "vLil5os_0VFt",
        "outputId": "2c25609c-6242-4b5e-d905-f9fe3c5dfa4d"
      },
      "execution_count": null,
      "outputs": [
        {
          "output_type": "stream",
          "name": "stdout",
          "text": [
            "088811188118\n"
          ]
        }
      ]
    },
    {
      "cell_type": "code",
      "source": [
        "#karena sebelumnya telah dilakukan penambahan pada dictionaries yakni HP, maka kembali akan diperbarui untuk data orang dengan cara mencetak kembali data orang\n",
        "print(data_orang)"
      ],
      "metadata": {
        "colab": {
          "base_uri": "https://localhost:8080/"
        },
        "id": "s0Iy6GQO0xnr",
        "outputId": "a3959f51-8e64-40f6-8239-690bfb7a8ba8"
      },
      "execution_count": null,
      "outputs": [
        {
          "output_type": "stream",
          "name": "stdout",
          "text": [
            "{'nama': 'suta', 'umur': 19, 'pernah_kelupaan?': True, 'HP': '088811188118'}\n"
          ]
        }
      ]
    },
    {
      "cell_type": "code",
      "source": [
        "#latihan berikutnya penggunaan dictionaries untuk mencetak nomor HP berupa huruf\n",
        "#didefinisikan data dictionaries bernama nomor yang terdiri dari data-data\n",
        "nomor = {\n",
        "    '0' : 'nol',\n",
        "    '1' : 'satu',\n",
        "    '2' : 'dua',\n",
        "    '3' : 'tiga',\n",
        "    '4' : 'empat',\n",
        "    '5' : 'lima',\n",
        "    '6' : 'enam',\n",
        "    '7' : 'tujuh',\n",
        "    '8' : 'delapan',\n",
        "    '9' : 'sembilan'\n",
        "}"
      ],
      "metadata": {
        "id": "kcMrzqCv5LNC"
      },
      "execution_count": null,
      "outputs": []
    },
    {
      "cell_type": "code",
      "source": [
        "#selanjutnya pada bagian ini didefinisikan no_HP menggunakan kombinasi data input\n",
        "no_HP = input(\"Masukkan no HP anda \")\n",
        "#selanjutnya didefinisikan no angka yang akan diisi oleh data nomor yang sudah didefinisikan\n",
        "no_angka = \"\"\n",
        "#digunakan tipe data perulangan for dengan no HP yang didefinisikan sebelumnya menjadi isi\n",
        "for isi in no_HP:\n",
        "  #selanjutnya didefinisikan untuk no angka = no angka + nomor pada dictionaries ditambah dengan data isi yang sudah didefinisikan\n",
        "  no_angka += nomor.get(isi) + \"\"\n",
        "#akan dicetak untuk no angka dengan formula yang telah dirancang\n",
        "print(no_angka)\n",
        "#hasil menunjukkan ada data input yang masuk ketika di run\n",
        "#dan data berupa angka tersebut berubah menjadi kata-kata misal 0 menjadi nol"
      ],
      "metadata": {
        "colab": {
          "base_uri": "https://localhost:8080/"
        },
        "id": "LtH-e_Fnx3vw",
        "outputId": "d9fd4e39-28ef-496a-f844-b53ef5edecb9"
      },
      "execution_count": null,
      "outputs": [
        {
          "output_type": "stream",
          "name": "stdout",
          "text": [
            "Masukkan no HP anda 081222333444\n",
            "noldelapansatuduaduaduatigatigatigaempatempatempat\n"
          ]
        }
      ]
    },
    {
      "cell_type": "markdown",
      "source": [
        "4. Function"
      ],
      "metadata": {
        "id": "CaIFGj7L6zIC"
      }
    },
    {
      "cell_type": "code",
      "source": [
        "#latihan berikutnya yakni mengenai fungsi pada python\n",
        "#fungsi pada python bertujuan untuk mengurangi pengulangan data yang tinggi ketika membuat suatu program\n",
        "#contohnya diberikan fungsi dengan nama waktu sampai yang didefinisikan dengan jarak dan waktu\n",
        "def waktu_sampai (jarak,kecepatan):\n",
        "  #selanjutnya kembali didefinisikan untuk waktu yakni dapat dioperasikan dengan jarak dibagi kecepatan\n",
        "  waktu = jarak/kecepatan\n",
        "  #pada bagian ini akan dicetak untuk waktu tersebut\n",
        "  print(waktu)"
      ],
      "metadata": {
        "id": "xN7J48YU2mnS"
      },
      "execution_count": null,
      "outputs": []
    },
    {
      "cell_type": "code",
      "source": [
        "#kemudian sama dengan kode sebelumnya didefinisikan waktu tempuh yakni jarak dan kecepatan\n",
        "def waktu_tempuh(jarak,kecepatan):\n",
        "  #didefinisikan untuk waktu yakni jarak dibagi kecepatan\n",
        "  waktu = jarak/kecepatan\n",
        "  #selanjutnya akan dikembalikan untuk nilai waktu menggunakan fungsi return\n",
        "  return waktu"
      ],
      "metadata": {
        "id": "eznCrxXY3SzK"
      },
      "execution_count": null,
      "outputs": []
    },
    {
      "cell_type": "code",
      "source": [
        "#Pada bagian ini akan didefinisikan jarak dan kecepatan untuk waktu sampai dan waktu tempuh masing-masing yakni 100 dan 80\n",
        "waktu_sampai (100,80)\n",
        "waktu_tempuh (100,80)\n",
        "#didefinisikan a sebagai waktu sampai dengan jarak 100 dan kecepatan 80\n",
        "a = waktu_sampai (100,80)\n",
        "#didefinisikan b sebagai waktu tempuh dengan jarak 100 dan kecepatan 80\n",
        "b = waktu_tempuh (100,80)\n",
        "#selanjutnya akan dicetak untuk a dan b\n",
        "print (a)\n",
        "print (b)"
      ],
      "metadata": {
        "colab": {
          "base_uri": "https://localhost:8080/"
        },
        "id": "AgJm_p1K3gQh",
        "outputId": "ad23fd00-f7bc-49e6-8f64-67ea996b0bbb"
      },
      "execution_count": null,
      "outputs": [
        {
          "output_type": "stream",
          "name": "stdout",
          "text": [
            "1.25\n",
            "1.25\n",
            "None\n",
            "1.25\n"
          ]
        }
      ]
    },
    {
      "cell_type": "code",
      "source": [
        "#Latihan berikutnya ialah menggunakan fungsi untuk menentukan median dari suatu data yang diberikan\n",
        "#didefinisikan median yang terdiri dari x,y, dan z\n",
        "def median (x,y,z):\n",
        "  #dengan menggunakan tipe data if dengan syarat diberikan\n",
        "  if x < y and y < z or x > y and y > z:\n",
        "    #selanjutnya akan dikembalikan untuk nilai y\n",
        "    return y\n",
        "  if y < x and x < z or y > x and x > z:\n",
        "    return x\n",
        "  if z < x and y < z or z > x and y > z:\n",
        "    return z\n",
        "  #berlaku seterusnya untuk x,y dan z"
      ],
      "metadata": {
        "id": "YOiekitZ4Trw"
      },
      "execution_count": null,
      "outputs": []
    },
    {
      "cell_type": "code",
      "source": [
        "#pada bagian ini akan dicetak nilai median pada data, dengan data diberikan untuk penentuan median\n",
        "print(\"Nilai median pada data:\", median(2,3,5))\n",
        "print(\"Nilai median pada data:\", median(10,7,11))\n",
        "#hasil pada data pertama yakni 3, karena setelah data terurut 3 merupakan nilai tengah\n",
        "#pada percobaan kedua yakni 10, karena setelah data terurut 10 merupakan nilai tengah"
      ],
      "metadata": {
        "colab": {
          "base_uri": "https://localhost:8080/"
        },
        "id": "nbDl84Nk510e",
        "outputId": "a98c17e2-fe05-4d6d-928b-fc82843ad1fb"
      },
      "execution_count": null,
      "outputs": [
        {
          "output_type": "stream",
          "name": "stdout",
          "text": [
            "Nilai median pada data: 3\n",
            "Nilai median pada data: 10\n"
          ]
        }
      ]
    },
    {
      "cell_type": "markdown",
      "source": [
        "5. Numpy"
      ],
      "metadata": {
        "id": "hyZUIVBn3BJz"
      }
    },
    {
      "cell_type": "code",
      "source": [
        "#Latihan berikutnya yaitu Numpy (Numerical Python)\n",
        "#pada dasarnya, numpy semacam pustaka di python yang memiliki keunggulan untuk menghitung vektor ataupun matriks\n",
        "#sebelum memulai, terlebih dahulu kita akan memanggil pustaka yang ada dengan import numpy as np\n",
        "import numpy as np"
      ],
      "metadata": {
        "id": "lVWhjf3Z6rX7"
      },
      "execution_count": null,
      "outputs": []
    },
    {
      "cell_type": "code",
      "source": [
        "#serta mengimport pandas as pd\n",
        "import pandas as pd"
      ],
      "metadata": {
        "id": "pFw5NFyi96Hy"
      },
      "execution_count": null,
      "outputs": []
    },
    {
      "cell_type": "markdown",
      "source": [
        "5.1 Perintah Dasar pada Numpy"
      ],
      "metadata": {
        "id": "_x3HUa_s7F52"
      }
    },
    {
      "cell_type": "code",
      "source": [
        "#pada bagian ini didefinisikan vektor dengan numpy array bernama a sebagai berikut.\n",
        "a = np.array([0,1,2,3,4])\n",
        "#selanjutnya akan dicetak untuk a\n",
        "print (a)\n",
        "#hasil menunjukkan vektor atau matriks ukuran 1 x 5"
      ],
      "metadata": {
        "id": "W8KVI5I83AsM",
        "colab": {
          "base_uri": "https://localhost:8080/"
        },
        "outputId": "9f235c87-d8b3-4170-da6a-93fc85a343f2"
      },
      "execution_count": null,
      "outputs": [
        {
          "output_type": "stream",
          "name": "stdout",
          "text": [
            "[0 1 2 3 4]\n"
          ]
        }
      ]
    },
    {
      "cell_type": "code",
      "source": [
        "#sama halnya dengan program sebelumnya, didefinisikan b sebagai matriks dengan numpy array\n",
        "b = np.array([[5,6,7,8],[9,8,7,6]])\n",
        "#selanjutnya akan dicetak b\n",
        "print (b)\n",
        "#hasil menunjukkan matriks dengan ukurang 2 x 4"
      ],
      "metadata": {
        "colab": {
          "base_uri": "https://localhost:8080/"
        },
        "id": "VWiIQSreyD-_",
        "outputId": "2abe2427-1f21-4152-ae1c-606f0f027168"
      },
      "execution_count": null,
      "outputs": [
        {
          "output_type": "stream",
          "name": "stdout",
          "text": [
            "[[5 6 7 8]\n",
            " [9 8 7 6]]\n"
          ]
        }
      ]
    },
    {
      "cell_type": "code",
      "source": [
        "#pada bagian ini didefinisikan untuk c sebagai matriks dengan numpy array sebagai berikut.\n",
        "c = np.array ([[[0,1,2,3],[4,5,6,7]],\n",
        "               [[8,9,8,7], [6,5,4,3]],\n",
        "               [[1,2,3,4], [5,6,7,8]]])\n",
        "#selanjutnya akan dicetak untuk c\n",
        "print (c)\n",
        "#hasil menunjukkan 3 buah matriks ukuran 2 x 4 dalam satu kesatuan list"
      ],
      "metadata": {
        "colab": {
          "base_uri": "https://localhost:8080/"
        },
        "id": "MIMMEANxyb0v",
        "outputId": "d958bc67-9b11-4191-ecfc-f913466af2bf"
      },
      "execution_count": null,
      "outputs": [
        {
          "output_type": "stream",
          "name": "stdout",
          "text": [
            "[[[0 1 2 3]\n",
            "  [4 5 6 7]]\n",
            "\n",
            " [[8 9 8 7]\n",
            "  [6 5 4 3]]\n",
            "\n",
            " [[1 2 3 4]\n",
            "  [5 6 7 8]]]\n"
          ]
        }
      ]
    },
    {
      "cell_type": "code",
      "source": [
        "#ndim merupakan tipe data untuk menunjukkan dimensi dari suatu data\n",
        "#akan ditunjukkan untuk dimensi dari a\n",
        "a.ndim\n",
        "#didapat a merupakan list dengan dimensi 1"
      ],
      "metadata": {
        "colab": {
          "base_uri": "https://localhost:8080/"
        },
        "id": "T0TA3Wkuze7C",
        "outputId": "30f0e46c-d133-484c-ef69-b142208b959f"
      },
      "execution_count": null,
      "outputs": [
        {
          "output_type": "execute_result",
          "data": {
            "text/plain": [
              "1"
            ]
          },
          "metadata": {},
          "execution_count": 10
        }
      ]
    },
    {
      "cell_type": "code",
      "source": [
        "#akan ditunjukkan untuk dimensi dari b\n",
        "b.ndim\n",
        "#didapat b merupakan list dengan dimensi 2"
      ],
      "metadata": {
        "colab": {
          "base_uri": "https://localhost:8080/"
        },
        "id": "pjwZx43mzhyn",
        "outputId": "1fda9f21-043b-4aec-b92f-9331e20ad582"
      },
      "execution_count": null,
      "outputs": [
        {
          "output_type": "execute_result",
          "data": {
            "text/plain": [
              "2"
            ]
          },
          "metadata": {},
          "execution_count": 11
        }
      ]
    },
    {
      "cell_type": "code",
      "source": [
        "#akan ditunjukkan untuk dimensi dari c\n",
        "c.ndim\n",
        "#didapat c merupakan list dengan dimensi 3"
      ],
      "metadata": {
        "colab": {
          "base_uri": "https://localhost:8080/"
        },
        "id": "TDKSIevFzpGu",
        "outputId": "1cb08092-e28e-4707-8fbc-2c7941006bd2"
      },
      "execution_count": null,
      "outputs": [
        {
          "output_type": "execute_result",
          "data": {
            "text/plain": [
              "3"
            ]
          },
          "metadata": {},
          "execution_count": 12
        }
      ]
    },
    {
      "cell_type": "code",
      "source": [
        "#shape digunakan untuk menentukan ukuran  variabel data\n",
        "#akan ditunjukkan untuk ukuran dari a\n",
        "a.shape"
      ],
      "metadata": {
        "colab": {
          "base_uri": "https://localhost:8080/"
        },
        "id": "2dXE5mDYzsIs",
        "outputId": "b64aa0a7-2e22-4f31-8636-cc722b11e26e"
      },
      "execution_count": null,
      "outputs": [
        {
          "output_type": "execute_result",
          "data": {
            "text/plain": [
              "(5,)"
            ]
          },
          "metadata": {},
          "execution_count": 14
        }
      ]
    },
    {
      "cell_type": "code",
      "source": [
        "#akan ditunjukkan untuk ukuran dari b\n",
        "b.shape"
      ],
      "metadata": {
        "colab": {
          "base_uri": "https://localhost:8080/"
        },
        "id": "KUb9yh-8zzbD",
        "outputId": "65ed314d-5b25-4f82-bed2-f9835d0be954"
      },
      "execution_count": null,
      "outputs": [
        {
          "output_type": "execute_result",
          "data": {
            "text/plain": [
              "(2, 4)"
            ]
          },
          "metadata": {},
          "execution_count": 15
        }
      ]
    },
    {
      "cell_type": "code",
      "source": [
        "#akan ditunjukkan untuk ukuran dari c\n",
        "c.shape"
      ],
      "metadata": {
        "colab": {
          "base_uri": "https://localhost:8080/"
        },
        "id": "upgMdXilz0ym",
        "outputId": "49bc7b31-e02e-41ff-e510-a72c8ec72b6a"
      },
      "execution_count": null,
      "outputs": [
        {
          "output_type": "execute_result",
          "data": {
            "text/plain": [
              "(3, 2, 4)"
            ]
          },
          "metadata": {},
          "execution_count": 16
        }
      ]
    },
    {
      "cell_type": "markdown",
      "source": [
        "5.2 Memanggil Anggota, Kolom dan Baris dengan *Numpy*"
      ],
      "metadata": {
        "id": "3dwlNOvDz9hc"
      }
    },
    {
      "cell_type": "code",
      "source": [
        "#didefinisikan d sebagai list (matriks) dengan data sebagai berikut.\n",
        "d = np.array([[1,2,3,4],[5,6,7,8],[9,10,11,12]])\n",
        "#akan dicetak untuk variabel d\n",
        "print(d)\n",
        "#hasil menunjukkan untuk d yakni merupakan matriks dengan ukuran 3 x 4"
      ],
      "metadata": {
        "colab": {
          "base_uri": "https://localhost:8080/"
        },
        "id": "qwnalqM70Hbm",
        "outputId": "59b4760a-f612-4ac4-f1f3-f2c1f85a79d0"
      },
      "execution_count": null,
      "outputs": [
        {
          "output_type": "stream",
          "name": "stdout",
          "text": [
            "[[ 1  2  3  4]\n",
            " [ 5  6  7  8]\n",
            " [ 9 10 11 12]]\n"
          ]
        }
      ]
    },
    {
      "cell_type": "code",
      "source": [
        "#pada matriks di python, sama seperti indeks baris dan kolom pertama selalu dimulai dari 0 bukan 1\n",
        "#pada bagian ini akan dipanggil anggota matriks dengan baris ke 1 dan kolom ke 2\n",
        "d[1,2]\n",
        "#anggota dengan baris 1 dan kolom 2 adalah 7"
      ],
      "metadata": {
        "colab": {
          "base_uri": "https://localhost:8080/"
        },
        "id": "OS3OCeCV0c8r",
        "outputId": "cf536c99-d1c2-41c5-bd94-f375cb4a495f"
      },
      "execution_count": null,
      "outputs": [
        {
          "output_type": "execute_result",
          "data": {
            "text/plain": [
              "7"
            ]
          },
          "metadata": {},
          "execution_count": 21
        }
      ]
    },
    {
      "cell_type": "code",
      "source": [
        "#akan dipanggil baris dengan indeks 0 pada variabel d sebagai berikut.\n",
        "d[0,:]"
      ],
      "metadata": {
        "colab": {
          "base_uri": "https://localhost:8080/"
        },
        "id": "oBadvfel0xGS",
        "outputId": "d2fa9eaa-c49d-4432-b05a-9e6172662240"
      },
      "execution_count": null,
      "outputs": [
        {
          "output_type": "execute_result",
          "data": {
            "text/plain": [
              "array([1, 2, 3, 4])"
            ]
          },
          "metadata": {},
          "execution_count": 22
        }
      ]
    },
    {
      "cell_type": "code",
      "source": [
        "#akan dipanggil kolom dengan indeks 1 pada variabel d sebagai berikut.\n",
        "d[:,1]"
      ],
      "metadata": {
        "colab": {
          "base_uri": "https://localhost:8080/"
        },
        "id": "43NVNZ5W025Y",
        "outputId": "bd26ae7e-95a1-44c4-ef4c-2303a985971b"
      },
      "execution_count": null,
      "outputs": [
        {
          "output_type": "execute_result",
          "data": {
            "text/plain": [
              "array([ 2,  6, 10])"
            ]
          },
          "metadata": {},
          "execution_count": 23
        }
      ]
    },
    {
      "cell_type": "code",
      "source": [
        "d[0,1:3]"
      ],
      "metadata": {
        "colab": {
          "base_uri": "https://localhost:8080/"
        },
        "id": "W-hHvG9V09hz",
        "outputId": "f8b0e9c7-675d-474e-b40a-1dee63b58e38"
      },
      "execution_count": null,
      "outputs": [
        {
          "output_type": "execute_result",
          "data": {
            "text/plain": [
              "array([2, 3])"
            ]
          },
          "metadata": {},
          "execution_count": 24
        }
      ]
    },
    {
      "cell_type": "code",
      "source": [
        "d[2,1:2:3]"
      ],
      "metadata": {
        "colab": {
          "base_uri": "https://localhost:8080/"
        },
        "id": "LAoIQtww1MvD",
        "outputId": "d60a1e6a-f31a-426c-c223-cc965d28258c"
      },
      "execution_count": null,
      "outputs": [
        {
          "output_type": "execute_result",
          "data": {
            "text/plain": [
              "array([10])"
            ]
          },
          "metadata": {},
          "execution_count": 25
        }
      ]
    },
    {
      "cell_type": "code",
      "source": [
        "#pada bagian ini akan direplace elemen pada d dengan baris 1 kolom 3 menjadi 200\n",
        "d[1,3] = 200\n",
        "#akan dicetak untuk d setelah terdapat perubahan pada elemen\n",
        "print (d)"
      ],
      "metadata": {
        "colab": {
          "base_uri": "https://localhost:8080/"
        },
        "id": "SJJVw_aq1e6c",
        "outputId": "8a3f5dff-10fc-490a-be62-06a507cafa51"
      },
      "execution_count": null,
      "outputs": [
        {
          "output_type": "stream",
          "name": "stdout",
          "text": [
            "[[  1   2   3   4]\n",
            " [  5   6   7 200]\n",
            " [  9  10  11  12]]\n"
          ]
        }
      ]
    },
    {
      "cell_type": "markdown",
      "source": [
        "5.3 Matriks pada *Numpy*"
      ],
      "metadata": {
        "id": "okuTgBCm1p6f"
      }
    },
    {
      "cell_type": "code",
      "source": [
        "#berikut adalah cara mencetak matriks di numpy dengan elemen 1 ukuran 2 x 3\n",
        "np.ones((2,3))"
      ],
      "metadata": {
        "colab": {
          "base_uri": "https://localhost:8080/"
        },
        "id": "KmRkBCzT1pUF",
        "outputId": "545db9dc-4c7c-429b-c705-41fea4038198"
      },
      "execution_count": null,
      "outputs": [
        {
          "output_type": "execute_result",
          "data": {
            "text/plain": [
              "array([[1., 1., 1.],\n",
              "       [1., 1., 1.]])"
            ]
          },
          "metadata": {},
          "execution_count": 27
        }
      ]
    },
    {
      "cell_type": "code",
      "source": [
        "#sama seperti kode sebelumnya, pada bagian ini akan dicetak matriks pada numpy dengan elemen 0 dengan ukuran 3 x 2\n",
        "np.zeros((3,2))"
      ],
      "metadata": {
        "colab": {
          "base_uri": "https://localhost:8080/"
        },
        "id": "JGhPMG5_2pmf",
        "outputId": "2294452c-2f75-4ad7-ab48-dc6a7826234b"
      },
      "execution_count": null,
      "outputs": [
        {
          "output_type": "execute_result",
          "data": {
            "text/plain": [
              "array([[0., 0.],\n",
              "       [0., 0.],\n",
              "       [0., 0.]])"
            ]
          },
          "metadata": {},
          "execution_count": 28
        }
      ]
    },
    {
      "cell_type": "code",
      "source": [
        "#pada bagian ini akan dibuat suatu matriks identitas ukuran 4x4. \n",
        "np.identity(4)"
      ],
      "metadata": {
        "colab": {
          "base_uri": "https://localhost:8080/"
        },
        "id": "O7FxwIlB2up6",
        "outputId": "d37eee6a-f6ea-4779-f829-294cf429bc20"
      },
      "execution_count": null,
      "outputs": [
        {
          "output_type": "execute_result",
          "data": {
            "text/plain": [
              "array([[1., 0., 0., 0.],\n",
              "       [0., 1., 0., 0.],\n",
              "       [0., 0., 1., 0.],\n",
              "       [0., 0., 0., 1.]])"
            ]
          },
          "metadata": {},
          "execution_count": 29
        }
      ]
    },
    {
      "cell_type": "code",
      "source": [
        "#pada bagian ini akan dicetak matriks 2 dimensi dengan tiap-tiap ukurannya yakni 3 x 4 serta elemennya 1\n",
        "np.ones((2,3,4))"
      ],
      "metadata": {
        "colab": {
          "base_uri": "https://localhost:8080/"
        },
        "id": "JNG7w_tn2x0b",
        "outputId": "09c7f4a3-c4c3-4d18-9004-f6b3b05acd61"
      },
      "execution_count": null,
      "outputs": [
        {
          "output_type": "execute_result",
          "data": {
            "text/plain": [
              "array([[[1., 1., 1., 1.],\n",
              "        [1., 1., 1., 1.],\n",
              "        [1., 1., 1., 1.]],\n",
              "\n",
              "       [[1., 1., 1., 1.],\n",
              "        [1., 1., 1., 1.],\n",
              "        [1., 1., 1., 1.]]])"
            ]
          },
          "metadata": {},
          "execution_count": 30
        }
      ]
    },
    {
      "cell_type": "code",
      "source": [
        "#pada bagian ini akan dicetak matriks berukuran 3x2 dengan tiap-tiap elemennya merupakan 9\n",
        "np.full((3,2),9)"
      ],
      "metadata": {
        "colab": {
          "base_uri": "https://localhost:8080/"
        },
        "id": "KUO8iZMC26pf",
        "outputId": "7026b15b-8a57-4ced-9ccf-a3a56ba50b15"
      },
      "execution_count": null,
      "outputs": [
        {
          "output_type": "execute_result",
          "data": {
            "text/plain": [
              "array([[9, 9],\n",
              "       [9, 9],\n",
              "       [9, 9]])"
            ]
          },
          "metadata": {},
          "execution_count": 31
        }
      ]
    },
    {
      "cell_type": "code",
      "source": [
        "#salah satu keistimewaan numpy ialah dapat membuat matriks acak\n",
        "#dengan menggunakan tipe random kita dapat membuat matriks dengan elemen acak seperti contoh matriks berukuran 4x3\n",
        "np.random.rand(4,3)"
      ],
      "metadata": {
        "colab": {
          "base_uri": "https://localhost:8080/"
        },
        "id": "MBjDL55H2_70",
        "outputId": "683b0467-dce5-46f8-a9b1-7c8c6c4c7717"
      },
      "execution_count": null,
      "outputs": [
        {
          "output_type": "execute_result",
          "data": {
            "text/plain": [
              "array([[0.2420363 , 0.29138896, 0.0926841 ],\n",
              "       [0.04610901, 0.54866906, 0.05102507],\n",
              "       [0.64326164, 0.47895915, 0.37922517],\n",
              "       [0.75950463, 0.51266244, 0.09840543]])"
            ]
          },
          "metadata": {},
          "execution_count": 32
        }
      ]
    },
    {
      "cell_type": "code",
      "source": [
        "#kemudian pada bagian ini kita pula dapat membuat matriks acak dengan elemennya dapat ditentukan dengan batas berapa saja\n",
        "#contoh akan dibuat matriks dengan elemen acak 1 sampai 10 serta matriksnya berukuran 3x4\n",
        "np.random.randint(1,10, size=(3,4))"
      ],
      "metadata": {
        "colab": {
          "base_uri": "https://localhost:8080/"
        },
        "id": "h-QdYkUd3IWk",
        "outputId": "f9694404-2cb9-4e83-8a0a-84cc2aa096f7"
      },
      "execution_count": null,
      "outputs": [
        {
          "output_type": "execute_result",
          "data": {
            "text/plain": [
              "array([[9, 2, 8, 4],\n",
              "       [9, 2, 4, 2],\n",
              "       [9, 1, 3, 6]])"
            ]
          },
          "metadata": {},
          "execution_count": 33
        }
      ]
    },
    {
      "cell_type": "code",
      "source": [
        "#Pada latihan ini kita akan membuat matriks seperti contoh pada buku ajar algoritma dan struktur data\n",
        "#didefinisikan variabel a merupakan matriks elemen 0 dengan ukuran 10x10\n",
        "a = np.zeros((10,10))\n",
        "print (a)"
      ],
      "metadata": {
        "colab": {
          "base_uri": "https://localhost:8080/"
        },
        "id": "bkSS-MkX3V03",
        "outputId": "bf30b369-2f27-4a7f-87f1-51186aaeae02"
      },
      "execution_count": null,
      "outputs": [
        {
          "output_type": "stream",
          "name": "stdout",
          "text": [
            "[[0. 0. 0. 0. 0. 0. 0. 0. 0. 0.]\n",
            " [0. 0. 0. 0. 0. 0. 0. 0. 0. 0.]\n",
            " [0. 0. 0. 0. 0. 0. 0. 0. 0. 0.]\n",
            " [0. 0. 0. 0. 0. 0. 0. 0. 0. 0.]\n",
            " [0. 0. 0. 0. 0. 0. 0. 0. 0. 0.]\n",
            " [0. 0. 0. 0. 0. 0. 0. 0. 0. 0.]\n",
            " [0. 0. 0. 0. 0. 0. 0. 0. 0. 0.]\n",
            " [0. 0. 0. 0. 0. 0. 0. 0. 0. 0.]\n",
            " [0. 0. 0. 0. 0. 0. 0. 0. 0. 0.]\n",
            " [0. 0. 0. 0. 0. 0. 0. 0. 0. 0.]]\n"
          ]
        }
      ]
    },
    {
      "cell_type": "code",
      "source": [
        "#pada bagian ini didefinisikan b matrik identitas ukuran 10x10\n",
        "b = np.identity(10)\n",
        "print(b)"
      ],
      "metadata": {
        "colab": {
          "base_uri": "https://localhost:8080/"
        },
        "id": "CMNiFSop3mm2",
        "outputId": "74a3a9c1-0e08-4d61-9131-2c3113e6118c"
      },
      "execution_count": null,
      "outputs": [
        {
          "output_type": "stream",
          "name": "stdout",
          "text": [
            "[[1. 0. 0. 0. 0. 0. 0. 0. 0. 0.]\n",
            " [0. 1. 0. 0. 0. 0. 0. 0. 0. 0.]\n",
            " [0. 0. 1. 0. 0. 0. 0. 0. 0. 0.]\n",
            " [0. 0. 0. 1. 0. 0. 0. 0. 0. 0.]\n",
            " [0. 0. 0. 0. 1. 0. 0. 0. 0. 0.]\n",
            " [0. 0. 0. 0. 0. 1. 0. 0. 0. 0.]\n",
            " [0. 0. 0. 0. 0. 0. 1. 0. 0. 0.]\n",
            " [0. 0. 0. 0. 0. 0. 0. 1. 0. 0.]\n",
            " [0. 0. 0. 0. 0. 0. 0. 0. 1. 0.]\n",
            " [0. 0. 0. 0. 0. 0. 0. 0. 0. 1.]]\n"
          ]
        }
      ]
    },
    {
      "cell_type": "code",
      "source": [
        "#selanjutnya pada bagian ini didefinisikan c sebagai hasil kali antara 9 dengan matriks identitas b\n",
        "c = 9*b\n",
        "#akan dicetak untuk c\n",
        "print (c)"
      ],
      "metadata": {
        "colab": {
          "base_uri": "https://localhost:8080/"
        },
        "id": "UAY-aLea3u1r",
        "outputId": "0fba43be-94ee-42a1-e747-ff73415f1465"
      },
      "execution_count": null,
      "outputs": [
        {
          "output_type": "stream",
          "name": "stdout",
          "text": [
            "[[9. 0. 0. 0. 0. 0. 0. 0. 0. 0.]\n",
            " [0. 9. 0. 0. 0. 0. 0. 0. 0. 0.]\n",
            " [0. 0. 9. 0. 0. 0. 0. 0. 0. 0.]\n",
            " [0. 0. 0. 9. 0. 0. 0. 0. 0. 0.]\n",
            " [0. 0. 0. 0. 9. 0. 0. 0. 0. 0.]\n",
            " [0. 0. 0. 0. 0. 9. 0. 0. 0. 0.]\n",
            " [0. 0. 0. 0. 0. 0. 9. 0. 0. 0.]\n",
            " [0. 0. 0. 0. 0. 0. 0. 9. 0. 0.]\n",
            " [0. 0. 0. 0. 0. 0. 0. 0. 9. 0.]\n",
            " [0. 0. 0. 0. 0. 0. 0. 0. 0. 9.]]\n"
          ]
        }
      ]
    },
    {
      "cell_type": "code",
      "source": [
        "#didefinisikan d merupakan matriks elemen 1 dengan ukuran 8x8\n",
        "d = np.ones((8,8))\n",
        "#didefinisikan untuk e merupakan matriks identitas 8x8\n",
        "e = np.identity(8)*8\n",
        "#didefinisikan f sebagai hasil penjumlahan matriks d dan e\n",
        "f = d+e\n",
        "#selanjutnya akan dicetak matriks f\n",
        "print (f)"
      ],
      "metadata": {
        "colab": {
          "base_uri": "https://localhost:8080/"
        },
        "id": "2xzmTCl630oR",
        "outputId": "68217e9b-03de-4fde-df8d-5cbe76d9dfc6"
      },
      "execution_count": null,
      "outputs": [
        {
          "output_type": "stream",
          "name": "stdout",
          "text": [
            "[[9. 1. 1. 1. 1. 1. 1. 1.]\n",
            " [1. 9. 1. 1. 1. 1. 1. 1.]\n",
            " [1. 1. 9. 1. 1. 1. 1. 1.]\n",
            " [1. 1. 1. 9. 1. 1. 1. 1.]\n",
            " [1. 1. 1. 1. 9. 1. 1. 1.]\n",
            " [1. 1. 1. 1. 1. 9. 1. 1.]\n",
            " [1. 1. 1. 1. 1. 1. 9. 1.]\n",
            " [1. 1. 1. 1. 1. 1. 1. 9.]]\n"
          ]
        }
      ]
    },
    {
      "cell_type": "code",
      "source": [
        "#selanjutnya matriks c dengan batas yang disebut, didefinisikan sebagai f\n",
        "c[1:-1,1:-1] = f\n",
        "#akan dicetak untuk matriks c terbaru\n",
        "print(c)"
      ],
      "metadata": {
        "colab": {
          "base_uri": "https://localhost:8080/"
        },
        "id": "Gz0VOlQA4Ez-",
        "outputId": "8030e6a4-2b5f-440b-a08a-58ca86ecf131"
      },
      "execution_count": null,
      "outputs": [
        {
          "output_type": "stream",
          "name": "stdout",
          "text": [
            "[[9. 0. 0. 0. 0. 0. 0. 0. 0. 0.]\n",
            " [0. 9. 1. 1. 1. 1. 1. 1. 1. 0.]\n",
            " [0. 1. 9. 1. 1. 1. 1. 1. 1. 0.]\n",
            " [0. 1. 1. 9. 1. 1. 1. 1. 1. 0.]\n",
            " [0. 1. 1. 1. 9. 1. 1. 1. 1. 0.]\n",
            " [0. 1. 1. 1. 1. 9. 1. 1. 1. 0.]\n",
            " [0. 1. 1. 1. 1. 1. 9. 1. 1. 0.]\n",
            " [0. 1. 1. 1. 1. 1. 1. 9. 1. 0.]\n",
            " [0. 1. 1. 1. 1. 1. 1. 1. 9. 0.]\n",
            " [0. 0. 0. 0. 0. 0. 0. 0. 0. 9.]]\n"
          ]
        }
      ]
    },
    {
      "cell_type": "code",
      "source": [
        "#didefinisikan matriks g merupakan matriks identitas 6x6 dikali dengan 9\n",
        "g = np.identity(6)*9\n",
        "#selanjutnya matriks c dengan batas yang disebut, didefinisikan sebagai g\n",
        "c[2:-2,2:-2] = g\n",
        "#cetak matriks c \n",
        "print (c)"
      ],
      "metadata": {
        "colab": {
          "base_uri": "https://localhost:8080/"
        },
        "id": "a-uIBcr74RY9",
        "outputId": "acc8ab8a-3a06-42cc-993c-35a76409a38b"
      },
      "execution_count": null,
      "outputs": [
        {
          "output_type": "stream",
          "name": "stdout",
          "text": [
            "[[9. 0. 0. 0. 0. 0. 0. 0. 0. 0.]\n",
            " [0. 9. 1. 1. 1. 1. 1. 1. 1. 0.]\n",
            " [0. 1. 9. 0. 0. 0. 0. 0. 1. 0.]\n",
            " [0. 1. 0. 9. 0. 0. 0. 0. 1. 0.]\n",
            " [0. 1. 0. 0. 9. 0. 0. 0. 1. 0.]\n",
            " [0. 1. 0. 0. 0. 9. 0. 0. 1. 0.]\n",
            " [0. 1. 0. 0. 0. 0. 9. 0. 1. 0.]\n",
            " [0. 1. 0. 0. 0. 0. 0. 9. 1. 0.]\n",
            " [0. 1. 1. 1. 1. 1. 1. 1. 9. 0.]\n",
            " [0. 0. 0. 0. 0. 0. 0. 0. 0. 9.]]\n"
          ]
        }
      ]
    },
    {
      "cell_type": "code",
      "source": [
        "#didefinisikan h, i, dan j sebagai berikut\n",
        "h = np.ones((4,4))*2\n",
        "i = np.identity(4)*7\n",
        "j = h+i\n",
        "print(j)"
      ],
      "metadata": {
        "colab": {
          "base_uri": "https://localhost:8080/"
        },
        "id": "P4f_z31K4hdl",
        "outputId": "0de18dfd-ec21-4f2e-9078-d71d3f78e4fe"
      },
      "execution_count": null,
      "outputs": [
        {
          "output_type": "stream",
          "name": "stdout",
          "text": [
            "[[9. 2. 2. 2.]\n",
            " [2. 9. 2. 2.]\n",
            " [2. 2. 9. 2.]\n",
            " [2. 2. 2. 9.]]\n"
          ]
        }
      ]
    },
    {
      "cell_type": "code",
      "source": [
        "#selanjutnya matriks c dengan batas yang disebut, didefinisikan sebagai j\n",
        "c[3:-3,3:-3] = j\n",
        "#cetak untuk c\n",
        "print(c)"
      ],
      "metadata": {
        "colab": {
          "base_uri": "https://localhost:8080/"
        },
        "id": "lxLtK1sZ4uLX",
        "outputId": "a6836b28-787e-45bc-d42f-56af668714ba"
      },
      "execution_count": null,
      "outputs": [
        {
          "output_type": "stream",
          "name": "stdout",
          "text": [
            "[[9. 0. 0. 0. 0. 0. 0. 0. 0. 0.]\n",
            " [0. 9. 1. 1. 1. 1. 1. 1. 1. 0.]\n",
            " [0. 1. 9. 0. 0. 0. 0. 0. 1. 0.]\n",
            " [0. 1. 0. 9. 2. 2. 2. 0. 1. 0.]\n",
            " [0. 1. 0. 2. 9. 2. 2. 0. 1. 0.]\n",
            " [0. 1. 0. 2. 2. 9. 2. 0. 1. 0.]\n",
            " [0. 1. 0. 2. 2. 2. 9. 0. 1. 0.]\n",
            " [0. 1. 0. 0. 0. 0. 0. 9. 1. 0.]\n",
            " [0. 1. 1. 1. 1. 1. 1. 1. 9. 0.]\n",
            " [0. 0. 0. 0. 0. 0. 0. 0. 0. 9.]]\n"
          ]
        }
      ]
    },
    {
      "cell_type": "code",
      "source": [
        "#didefinisikan k sebagai matriks identitas 2x2 dikali dengan 9\n",
        "k = np.identity(2)*9\n",
        "#selanjutnya matriks c dengan batas yang disebut, didefinisikan sebagai k\n",
        "c[4:-4,4:-4] = k\n",
        "#terakhir, cetak c untuk mendapatkan hasil terbaru untuk matriks c\n",
        "print(c)"
      ],
      "metadata": {
        "colab": {
          "base_uri": "https://localhost:8080/"
        },
        "id": "SDQ_thkk40oY",
        "outputId": "ec178fbb-4937-4717-93f0-92e7cd138f22"
      },
      "execution_count": null,
      "outputs": [
        {
          "output_type": "stream",
          "name": "stdout",
          "text": [
            "[[9. 0. 0. 0. 0. 0. 0. 0. 0. 0.]\n",
            " [0. 9. 1. 1. 1. 1. 1. 1. 1. 0.]\n",
            " [0. 1. 9. 0. 0. 0. 0. 0. 1. 0.]\n",
            " [0. 1. 0. 9. 2. 2. 2. 0. 1. 0.]\n",
            " [0. 1. 0. 2. 9. 0. 2. 0. 1. 0.]\n",
            " [0. 1. 0. 2. 0. 9. 2. 0. 1. 0.]\n",
            " [0. 1. 0. 2. 2. 2. 9. 0. 1. 0.]\n",
            " [0. 1. 0. 0. 0. 0. 0. 9. 1. 0.]\n",
            " [0. 1. 1. 1. 1. 1. 1. 1. 9. 0.]\n",
            " [0. 0. 0. 0. 0. 0. 0. 0. 0. 9.]]\n"
          ]
        }
      ]
    },
    {
      "cell_type": "markdown",
      "source": [
        "5.4 *Copy* pada *Numpy*"
      ],
      "metadata": {
        "id": "WDTHhfk_5LFb"
      }
    },
    {
      "cell_type": "code",
      "source": [
        "#latihan berikutnya ialah copy pada numpy\n",
        "#didefinisikan variabel a dengan numpy array merupakan suatu vektor\n",
        "a = np.array([1,2,3,4,5])\n",
        "#akan dicetak untuk vektor a\n",
        "print (a)"
      ],
      "metadata": {
        "colab": {
          "base_uri": "https://localhost:8080/"
        },
        "id": "RDFCAgYZ5FP-",
        "outputId": "cdcffe86-ddb2-491a-f9f8-d3315f43ade3"
      },
      "execution_count": null,
      "outputs": [
        {
          "output_type": "stream",
          "name": "stdout",
          "text": [
            "[1 2 3 4 5]\n"
          ]
        }
      ]
    },
    {
      "cell_type": "code",
      "source": [
        "#dengan menggunakan tanda =, kita sudah dapat secara otomatis mengcopy suatu data dengan variabel berbeda\n",
        "#selanjutnya didefinisikan b sama dengan a\n",
        "b = a\n",
        "#akan dicetak untuk nilai b\n",
        "print (b)"
      ],
      "metadata": {
        "colab": {
          "base_uri": "https://localhost:8080/"
        },
        "id": "N_Y4GUs75Wga",
        "outputId": "64d29729-a873-4338-a3f9-b3f85dad635d"
      },
      "execution_count": null,
      "outputs": [
        {
          "output_type": "stream",
          "name": "stdout",
          "text": [
            "[1 2 3 4 5]\n"
          ]
        }
      ]
    },
    {
      "cell_type": "code",
      "source": [
        "#pada bagian ini, nilai dari b dengan indeks 0 diganti dengan elemen baru yakni 10\n",
        "b[0] = 10\n",
        "#akan dicetak untuk b terbaru\n",
        "print(b)"
      ],
      "metadata": {
        "colab": {
          "base_uri": "https://localhost:8080/"
        },
        "id": "5_dv_UtB5alV",
        "outputId": "9654772b-8b2a-4de6-c147-c3a55449d741"
      },
      "execution_count": null,
      "outputs": [
        {
          "output_type": "stream",
          "name": "stdout",
          "text": [
            "[10  2  3  4  5]\n"
          ]
        }
      ]
    },
    {
      "cell_type": "code",
      "source": [
        "print(a)\n",
        "#pada bagian ini nilai pula turut mengalami perubahan berdasarkan definisi sebelumnya b = a"
      ],
      "metadata": {
        "colab": {
          "base_uri": "https://localhost:8080/"
        },
        "id": "45GWPkn45hBU",
        "outputId": "bfdf4f8a-ff55-41f4-b2cc-c295d945634a"
      },
      "execution_count": null,
      "outputs": [
        {
          "output_type": "stream",
          "name": "stdout",
          "text": [
            "[10  2  3  4  5]\n"
          ]
        }
      ]
    },
    {
      "cell_type": "code",
      "source": [
        "#contoh lainnya didefinisikan untuk c merupakan vektor dengan numpy array\n",
        "c = np.array([1,2,3,4,5])\n",
        "#akan dicetak vektor c\n",
        "print (c)"
      ],
      "metadata": {
        "colab": {
          "base_uri": "https://localhost:8080/"
        },
        "id": "nqhIJCsq5kd6",
        "outputId": "cc8834ab-d666-4ed2-dce4-1ee2854167f5"
      },
      "execution_count": null,
      "outputs": [
        {
          "output_type": "stream",
          "name": "stdout",
          "text": [
            "[1 2 3 4 5]\n"
          ]
        }
      ]
    },
    {
      "cell_type": "code",
      "source": [
        "#selanjutnya didefinisikan untuk d merupakan hasil copy dari variabel c\n",
        "d = c.copy()\n",
        "#akan dicetak untuk variabel d\n",
        "print (d)"
      ],
      "metadata": {
        "colab": {
          "base_uri": "https://localhost:8080/"
        },
        "id": "e6zq1h4P5sC1",
        "outputId": "8ebbd447-8524-40e2-d830-cbf6e5008418"
      },
      "execution_count": null,
      "outputs": [
        {
          "output_type": "stream",
          "name": "stdout",
          "text": [
            "[1 2 3 4 5]\n"
          ]
        }
      ]
    },
    {
      "cell_type": "code",
      "source": [
        "#akan direplace untuk elemen di variabel d menjadi 1000\n",
        "d[1] = 1000\n",
        "#akan dicetak untuk variabel d terbaru\n",
        "print (d)"
      ],
      "metadata": {
        "colab": {
          "base_uri": "https://localhost:8080/"
        },
        "id": "W3Apzhqs5yb2",
        "outputId": "8257fb9f-8714-4c23-d415-ba93e4840adc"
      },
      "execution_count": null,
      "outputs": [
        {
          "output_type": "stream",
          "name": "stdout",
          "text": [
            "[   1 1000    3    4    5]\n"
          ]
        }
      ]
    },
    {
      "cell_type": "code",
      "source": [
        "#pada bagian ini akan dicetak untuk variabel c\n",
        "print (c)\n",
        "#hasil menunjukkan tidak terdapat perubahan\n",
        "#hal tersebut terjadi karena definisi dari variabel d merupakan copy dari variabel c, sehingga variabel c tetap seperti semula\n",
        "#beda halnya ketika kasusnya d = c, apabila elemen di d mengalami perubahan maka secara otomatis berlaku juga untuk elemen di variabel c"
      ],
      "metadata": {
        "colab": {
          "base_uri": "https://localhost:8080/"
        },
        "id": "tHgcbwyj55jL",
        "outputId": "034b37f7-449a-41d6-8ebb-350f9f225601"
      },
      "execution_count": null,
      "outputs": [
        {
          "output_type": "stream",
          "name": "stdout",
          "text": [
            "[1 2 3 4 5]\n"
          ]
        }
      ]
    },
    {
      "cell_type": "markdown",
      "source": [
        "5.5 Operasi Matematika pada Numpy"
      ],
      "metadata": {
        "id": "xVsV91hh58XX"
      }
    },
    {
      "cell_type": "code",
      "source": [
        "#didefinisikan variabel a merupakan vektor dengan numpy array\n",
        "a = np.array ([1,2,3])\n",
        "#akan dieksekusi untuk variabel a dijumlah dengan 2\n",
        "a+2"
      ],
      "metadata": {
        "colab": {
          "base_uri": "https://localhost:8080/"
        },
        "id": "ThPHq_7RWPdo",
        "outputId": "3e13dcc5-ae0d-4774-e73b-64d62cf84b74"
      },
      "execution_count": 10,
      "outputs": [
        {
          "output_type": "execute_result",
          "data": {
            "text/plain": [
              "array([3, 4, 5])"
            ]
          },
          "metadata": {},
          "execution_count": 10
        }
      ]
    },
    {
      "cell_type": "code",
      "source": [
        "#didefinisikan variabel b merupakan vektor dengan numpy array\n",
        "b = np.array ([4,5,6])\n",
        "#akan dicetak b\n",
        "print (b)"
      ],
      "metadata": {
        "colab": {
          "base_uri": "https://localhost:8080/"
        },
        "id": "6xVl4SOFWpwH",
        "outputId": "6e221440-83c3-4d16-df4a-2f95fec2e2d2"
      },
      "execution_count": 22,
      "outputs": [
        {
          "output_type": "stream",
          "name": "stdout",
          "text": [
            "[4 5 6]\n"
          ]
        }
      ]
    },
    {
      "cell_type": "code",
      "source": [
        "#pada bagian ini akan diuji untuk perkalian variabel a dan b\n",
        "a*b"
      ],
      "metadata": {
        "id": "FoPGOSk921XE"
      },
      "execution_count": null,
      "outputs": []
    },
    {
      "cell_type": "code",
      "source": [
        "#akan ditentukan nilai cos dari variabel a\n",
        "np.cos(a)"
      ],
      "metadata": {
        "colab": {
          "base_uri": "https://localhost:8080/"
        },
        "id": "F1521VztW2FF",
        "outputId": "7bf4ee67-0d67-4a71-d1b3-6039250597b5"
      },
      "execution_count": 12,
      "outputs": [
        {
          "output_type": "execute_result",
          "data": {
            "text/plain": [
              "array([ 0.54030231, -0.41614684, -0.9899925 ])"
            ]
          },
          "metadata": {},
          "execution_count": 12
        }
      ]
    },
    {
      "cell_type": "markdown",
      "source": [
        "5.6 Perkalian Matriks pada *Numpy*"
      ],
      "metadata": {
        "id": "psaU6V-FW6tr"
      }
    },
    {
      "cell_type": "code",
      "source": [
        "#didefinisikan a merupakan matriks dengan numpy array\n",
        "a = np.array([[1,2,3,4],[5,6,7,8]])\n",
        "#akan dicetak untuk matriks a\n",
        "print (a)"
      ],
      "metadata": {
        "colab": {
          "base_uri": "https://localhost:8080/"
        },
        "id": "POp0Pcr6XAFN",
        "outputId": "cfb5db93-7bd0-430c-bf3a-9fd38422332d"
      },
      "execution_count": 13,
      "outputs": [
        {
          "output_type": "stream",
          "name": "stdout",
          "text": [
            "[[1 2 3 4]\n",
            " [5 6 7 8]]\n"
          ]
        }
      ]
    },
    {
      "cell_type": "code",
      "source": [
        "#didefinisikan b merupakan matriks dengan numpy array\n",
        "b = np.array([[9,10,11,12],[13,14,15,16]])\n",
        "##akan dicetak untuk matriks b\n",
        "print (b)"
      ],
      "metadata": {
        "colab": {
          "base_uri": "https://localhost:8080/"
        },
        "id": "AAioX47ZXNmB",
        "outputId": "2cae39a9-6bf5-4485-c00e-00bf55421bad"
      },
      "execution_count": 14,
      "outputs": [
        {
          "output_type": "stream",
          "name": "stdout",
          "text": [
            "[[ 9 10 11 12]\n",
            " [13 14 15 16]]\n"
          ]
        }
      ]
    },
    {
      "cell_type": "code",
      "source": [
        "#didefinisikan variabel c sebagai hasil kali matriks a dan matriks b\n",
        "c = a*b\n",
        "#akan dicetak untuk c\n",
        "print (c)"
      ],
      "metadata": {
        "colab": {
          "base_uri": "https://localhost:8080/"
        },
        "id": "_-RHM1HXXZ4S",
        "outputId": "e5347100-985d-4022-ed1e-eecb4a37f4fd"
      },
      "execution_count": 15,
      "outputs": [
        {
          "output_type": "stream",
          "name": "stdout",
          "text": [
            "[[  9  20  33  48]\n",
            " [ 65  84 105 128]]\n"
          ]
        }
      ]
    },
    {
      "cell_type": "markdown",
      "source": [
        "5.7 *Min*, *max*, dan *sum* pada *Numpy*"
      ],
      "metadata": {
        "id": "-G2MtzW9Xplb"
      }
    },
    {
      "cell_type": "code",
      "source": [
        "#latihan numpy berikutnya ialah menentukan nilai min, max dan jumlah\n",
        "#didefinisikan untuk matriks variabel a berukuran 3x4\n",
        "a = np.array([[1,2,3,4],\n",
        "              [5,6,7,8],\n",
        "              [9,10,11,12]])\n",
        "#akan dicetak untuk matriks a\n",
        "print (a)"
      ],
      "metadata": {
        "colab": {
          "base_uri": "https://localhost:8080/"
        },
        "id": "_Ehcw6xAXgwg",
        "outputId": "e5c9fef7-9e50-422b-9c18-bd86e2409fae"
      },
      "execution_count": 18,
      "outputs": [
        {
          "output_type": "stream",
          "name": "stdout",
          "text": [
            "[[ 1  2  3  4]\n",
            " [ 5  6  7  8]\n",
            " [ 9 10 11 12]]\n"
          ]
        }
      ]
    },
    {
      "cell_type": "code",
      "source": [
        "#pada bagian ini akan ditentukan nilai minimum pada variabel a menggunakan np.min\n",
        "#didefinisikan b merupakan nilai minimum variabel a\n",
        "b = np.min(a)\n",
        "#akan dicetak untuk nilai b\n",
        "print (b)"
      ],
      "metadata": {
        "colab": {
          "base_uri": "https://localhost:8080/"
        },
        "id": "cw9PuHcNYGfS",
        "outputId": "8ef16641-9b0d-4e0c-83ad-105fafe28c3d"
      },
      "execution_count": 19,
      "outputs": [
        {
          "output_type": "stream",
          "name": "stdout",
          "text": [
            "1\n"
          ]
        }
      ]
    },
    {
      "cell_type": "code",
      "source": [
        "#pada bagian ini akan ditentukan nilai maksimum pada variabel a menggunakan np.max\n",
        "#didefinisikan c merupakan nilai maksimum variabel a\n",
        "c = np.max(a)\n",
        "#akan dicetak untuk nilai c\n",
        "print (c)"
      ],
      "metadata": {
        "colab": {
          "base_uri": "https://localhost:8080/"
        },
        "id": "2dFZZav9YMO-",
        "outputId": "5e908003-3453-4a6d-95f3-877f1c71ebfb"
      },
      "execution_count": 20,
      "outputs": [
        {
          "output_type": "stream",
          "name": "stdout",
          "text": [
            "12\n"
          ]
        }
      ]
    },
    {
      "cell_type": "code",
      "source": [
        "#pada bagian ini akan ditentukan nilai total atau jumlah pada variabel a menggunakan np.sum\n",
        "#didefinisikan d merupakan nilai total untuk variabel a\n",
        "d = np.sum(a)\n",
        "##akan dicetak untuk nilai d\n",
        "print(d)"
      ],
      "metadata": {
        "colab": {
          "base_uri": "https://localhost:8080/"
        },
        "id": "8iWIQc1rYUCS",
        "outputId": "a4743841-6067-425f-f5f4-ad15a617748f"
      },
      "execution_count": 21,
      "outputs": [
        {
          "output_type": "stream",
          "name": "stdout",
          "text": [
            "78\n"
          ]
        }
      ]
    }
  ]
}