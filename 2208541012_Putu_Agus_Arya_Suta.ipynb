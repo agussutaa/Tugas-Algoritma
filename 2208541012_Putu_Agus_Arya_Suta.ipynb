{
  "nbformat": 4,
  "nbformat_minor": 0,
  "metadata": {
    "colab": {
      "provenance": [],
      "authorship_tag": "ABX9TyNA11pZvX4rPUHaR7HZy8SO",
      "include_colab_link": true
    },
    "kernelspec": {
      "name": "python3",
      "display_name": "Python 3"
    },
    "language_info": {
      "name": "python"
    }
  },
  "cells": [
    {
      "cell_type": "markdown",
      "metadata": {
        "id": "view-in-github",
        "colab_type": "text"
      },
      "source": [
        "<a href=\"https://colab.research.google.com/github/agussutaa/Tugas-Algoritma/blob/main/2208541012_Putu_Agus_Arya_Suta.ipynb\" target=\"_parent\"><img src=\"https://colab.research.google.com/assets/colab-badge.svg\" alt=\"Open In Colab\"/></a>"
      ]
    },
    {
      "cell_type": "code",
      "source": [
        "#012_Menggunakan tipe data print untuk mencetak data yang dimasukkan\n",
        "#Menggunakan tanda petik dua \" \" untuk menjalankan kode\n",
        "print(\"Halo semua selamat pagi!\")\n",
        "print(\"Apa kabar gais?\")\n",
        "print(\"Sehat selalu, ily 3000\")"
      ],
      "metadata": {
        "id": "OZAoY9UCfd_l"
      },
      "execution_count": null,
      "outputs": []
    },
    {
      "cell_type": "code",
      "execution_count": null,
      "metadata": {
        "id": "isqw1ENdsaWI",
        "colab": {
          "base_uri": "https://localhost:8080/"
        },
        "outputId": "57386204-ade7-4fbb-bf43-413f7a4c4b96"
      },
      "outputs": [
        {
          "output_type": "stream",
          "name": "stdout",
          "text": [
            "Saya Putu Agus Arya Suta\n"
          ]
        }
      ],
      "source": [
        "#012_Menggunakan tipe data print untuk mencetak data yang dimasukkan\n",
        "#Penggunaan tanda petik ' ' juga dapat digunakan untuk menjalankan kode\n",
        "print('Saya Putu Agus Arya Suta')"
      ]
    },
    {
      "cell_type": "code",
      "source": [
        "#012_Mencoba mencetak perintah print dengan menggunakan tanda petik berbeda \n",
        "print ('suta ganteng banget\")\n",
        "#Penggunaan tanda petik berbeda tidak dapat menjalankan kode sehingga perlu penggunaan tanda petik yang sama"
      ],
      "metadata": {
        "colab": {
          "base_uri": "https://localhost:8080/",
          "height": 131
        },
        "id": "ty8-z6zIW-Tx",
        "outputId": "94f048eb-38f4-4a2c-8697-ae4251f9aff7"
      },
      "execution_count": null,
      "outputs": [
        {
          "output_type": "error",
          "ename": "SyntaxError",
          "evalue": "ignored",
          "traceback": [
            "\u001b[0;36m  File \u001b[0;32m\"<ipython-input-9-426760dfd119>\"\u001b[0;36m, line \u001b[0;32m2\u001b[0m\n\u001b[0;31m    print ('suta ganteng banget\")\u001b[0m\n\u001b[0m                                 ^\u001b[0m\n\u001b[0;31mSyntaxError\u001b[0m\u001b[0;31m:\u001b[0m EOL while scanning string literal\n"
          ]
        }
      ]
    },
    {
      "cell_type": "code",
      "source": [
        "#012_Berikut adalah identitas pribadi saya:\n",
        "nama_lengkap = \"Putu Agus Arya Suta\"\n",
        "nim = \"2208541012\"\n",
        "prodi = \"Matematika\"\n",
        "tempat_tanggal_lahir = \"Negara, 11 April 2004\"\n",
        "alamat = \"Jalan Perum Pasraman Unud, Blok B, No. 31\"\n",
        "print(nama_lengkap)\n",
        "print(nim)\n",
        "print(prodi)\n",
        "print(tempat_tanggal_lahir)\n",
        "print(alamat)"
      ],
      "metadata": {
        "colab": {
          "base_uri": "https://localhost:8080/"
        },
        "id": "Gfz-wpxhffB-",
        "outputId": "aeed5666-8554-4ba0-db68-943a631e99be"
      },
      "execution_count": null,
      "outputs": [
        {
          "output_type": "stream",
          "name": "stdout",
          "text": [
            "Putu Agus Arya Suta\n",
            "2208541012\n",
            "Matematika\n",
            "Negara, 11 April 2004\n",
            "Jalan Perum Pasraman Unud, Blok B, No. 31\n"
          ]
        }
      ]
    },
    {
      "cell_type": "code",
      "source": [
        "#012_Menghitung total dana berdasarkan pemasukkan dan pengeluaran yang dideskripsikan\n",
        "pemasukkan = 30000\n",
        "pengeluaran = 28000\n",
        "total_dana = pemasukkan - pengeluaran\n",
        "print(total_dana)"
      ],
      "metadata": {
        "id": "bOEJAXPVf0ec"
      },
      "execution_count": null,
      "outputs": []
    },
    {
      "cell_type": "code",
      "source": [
        "#012_Menghitung luas persegi atau persegi panjang menggunakan tipe data string, integer dan input\n",
        "panjang = int(input(\"Masukkan panjang sisi: \"))\n",
        "lebar = int(input(\"Masukkan lebar sisi: \"))\n",
        "luas = int(panjang) * int(lebar)\n",
        "print(\"Luas persegi panjang adalah \" + str(luas))"
      ],
      "metadata": {
        "colab": {
          "base_uri": "https://localhost:8080/"
        },
        "id": "DPM9ma45X3dn",
        "outputId": "f845065c-b48e-479c-cc50-63d2737e475b"
      },
      "execution_count": null,
      "outputs": [
        {
          "output_type": "stream",
          "name": "stdout",
          "text": [
            "Masukkan panjang sisi: 2\n",
            "Masukkan lebar sisi: 2\n",
            "Luas persegi panjang adalah 4\n"
          ]
        }
      ]
    },
    {
      "cell_type": "code",
      "source": [
        "#012_Mengelompokkan kategori seseorang berdasarkan usia\n",
        "#Dideskripsikan variabel usia dengan input menggunakan integer\n",
        "usia = int (input(\"Berapa usiamu?:\"))\n",
        "#Akan dicetak kategori seseorang berdasarkan usia\n",
        "print()\n",
        "if usia >=0 and usia <=4 :\n",
        "  print(\"Anda merupakan Balita\")\n",
        "#Digunakan tipe elif atau pengembangan dari if else yang bertujuan untuk memberikan lebih dari satu pilihan\n",
        "#sedangkan else hanya digunakan untuk satu pilihan saja\n",
        "elif usia >=4 and usia <=12 :\n",
        "  print(\"Anda merupakan Anak-Anak\")\n",
        "elif usia >=13 and usia <=17 :\n",
        "  print(\"Anda merupakan Remaja\")\n",
        "elif usia >=18 and usia <=50 :\n",
        "  print(\"Anda merupakan Dewasa\")\n",
        "elif usia >=51 and usia <=100 :\n",
        "  print(\"Anda merupakan lansia\")\n",
        "elif usia >=100 :\n",
        "  print(\"Tidak Diketahui\")"
      ],
      "metadata": {
        "colab": {
          "base_uri": "https://localhost:8080/"
        },
        "id": "ylUNM6paf1lA",
        "outputId": "28273627-eb72-4599-9ebc-48ad7f9d49d9"
      },
      "execution_count": null,
      "outputs": [
        {
          "output_type": "stream",
          "name": "stdout",
          "text": [
            "Berapa usiamu?:17\n",
            "\n",
            "Anda merupakan Remaja\n"
          ]
        }
      ]
    },
    {
      "cell_type": "code",
      "source": [
        "#Mencoba memunculkan nilai mata kuliah dengan skala huruf menggunakan tipe data integer dan input\n",
        "matkul = input (\"Masukkan mata kuliah: \")\n",
        "nilai = int (input(\"Masukkan nilai mata kuliah: \"))\n",
        "print ()\n",
        "if nilai >=0 and nilai <=39 :\n",
        "  print(\"Nilai mata kuliah \" + matkul + \" anda yaitu E\" )\n",
        "elif nilai >=40 and nilai <=49 :\n",
        "  print(\"Nilai mata kuliah \" + matkul + \" anda yaitu D\" )\n",
        "elif nilai >=50 and nilai <= 54 :\n",
        "  print(\"Nilai mata kuliah \" + matkul + \" anda yaitu D+\" )\n",
        "elif nilai >=55 and nilai <= 59 :\n",
        "  print(\"Nilai mata kuliah \" + matkul + \" anda yaitu C\" )\n",
        "elif nilai >= 60 and nilai <= 64 :\n",
        "  print(\"Nilai mata kuliah \" + matkul + \" anda yaitu C+\" )\n",
        "elif nilai >= 65 and nilai <= 70 :\n",
        "  print(\"Nilai mata kuliah \" + matkul + \" anda yaitu B\" )\n",
        "elif nilai >=71 and nilai <=79 :\n",
        "  print(\"Nilai mata kuliah \" + matkul + \" anda yaitu B+\" )\n",
        "elif nilai >=80 and nilai <=100 :\n",
        "  print(\"Nilai mata kuliah \" + matkul + \" anda yaitu A\" )\n",
        "elif nilai >=101 :\n",
        "  print(\"Nilai mata kuliah \" + matkul + \" tidak diketahui\" )"
      ],
      "metadata": {
        "id": "WHuRT7YOgDab",
        "colab": {
          "base_uri": "https://localhost:8080/"
        },
        "outputId": "d52b5534-bc51-49d0-e3c9-d44ef4baefcf"
      },
      "execution_count": null,
      "outputs": [
        {
          "output_type": "stream",
          "name": "stdout",
          "text": [
            "Masukkan mata kuliah: a\n",
            "Masukkan nilai mata kuliah: 102\n",
            "\n",
            "Nilai mata kuliah a tidak diketahui\n"
          ]
        }
      ]
    },
    {
      "cell_type": "code",
      "source": [
        "#012_Menjalankan program dengan tipe data boolean\n",
        "nilai = 5\n",
        "print (nilai > 7)"
      ],
      "metadata": {
        "id": "T-epT68Tbjdq",
        "colab": {
          "base_uri": "https://localhost:8080/"
        },
        "outputId": "c846d50e-9ee2-47bf-db9f-a189540f12cd"
      },
      "execution_count": null,
      "outputs": [
        {
          "output_type": "stream",
          "name": "stdout",
          "text": [
            "False\n"
          ]
        }
      ]
    }
  ]
}